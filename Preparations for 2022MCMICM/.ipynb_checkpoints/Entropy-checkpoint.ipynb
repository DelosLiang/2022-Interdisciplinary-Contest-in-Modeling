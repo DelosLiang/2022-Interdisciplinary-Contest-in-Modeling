{
 "cells": [
  {
   "cell_type": "code",
   "execution_count": 1,
   "metadata": {
    "ExecuteTime": {
     "end_time": "2022-02-15T08:31:59.174436Z",
     "start_time": "2022-02-15T08:31:58.689085Z"
    }
   },
   "outputs": [
    {
     "name": "stdout",
     "output_type": "stream",
     "text": [
      "['油耗', '功率', '费用', '安全性', '维护性', '操作性']\n",
      "['本田', '奥迪', '桑塔纳', '别克']\n",
      "[[ 5.   1.4  6.   3.   5.   7. ]\n",
      " [ 9.   2.  30.   7.   5.   9. ]\n",
      " [ 8.   1.8 11.   5.   7.   5. ]\n",
      " [12.   2.5 18.   7.   5.   5. ]]\n"
     ]
    },
    {
     "data": {
      "text/html": [
       "<div>\n",
       "<style scoped>\n",
       "    .dataframe tbody tr th:only-of-type {\n",
       "        vertical-align: middle;\n",
       "    }\n",
       "\n",
       "    .dataframe tbody tr th {\n",
       "        vertical-align: top;\n",
       "    }\n",
       "\n",
       "    .dataframe thead th {\n",
       "        text-align: right;\n",
       "    }\n",
       "</style>\n",
       "<table border=\"1\" class=\"dataframe\">\n",
       "  <thead>\n",
       "    <tr style=\"text-align: right;\">\n",
       "      <th></th>\n",
       "      <th>油耗</th>\n",
       "      <th>功率</th>\n",
       "      <th>费用</th>\n",
       "      <th>安全性</th>\n",
       "      <th>维护性</th>\n",
       "      <th>操作性</th>\n",
       "    </tr>\n",
       "    <tr>\n",
       "      <th>车型</th>\n",
       "      <th></th>\n",
       "      <th></th>\n",
       "      <th></th>\n",
       "      <th></th>\n",
       "      <th></th>\n",
       "      <th></th>\n",
       "    </tr>\n",
       "  </thead>\n",
       "  <tbody>\n",
       "    <tr>\n",
       "      <th>本田</th>\n",
       "      <td>5</td>\n",
       "      <td>1.4</td>\n",
       "      <td>6</td>\n",
       "      <td>3</td>\n",
       "      <td>5</td>\n",
       "      <td>7</td>\n",
       "    </tr>\n",
       "    <tr>\n",
       "      <th>奥迪</th>\n",
       "      <td>9</td>\n",
       "      <td>2.0</td>\n",
       "      <td>30</td>\n",
       "      <td>7</td>\n",
       "      <td>5</td>\n",
       "      <td>9</td>\n",
       "    </tr>\n",
       "    <tr>\n",
       "      <th>桑塔纳</th>\n",
       "      <td>8</td>\n",
       "      <td>1.8</td>\n",
       "      <td>11</td>\n",
       "      <td>5</td>\n",
       "      <td>7</td>\n",
       "      <td>5</td>\n",
       "    </tr>\n",
       "    <tr>\n",
       "      <th>别克</th>\n",
       "      <td>12</td>\n",
       "      <td>2.5</td>\n",
       "      <td>18</td>\n",
       "      <td>7</td>\n",
       "      <td>5</td>\n",
       "      <td>5</td>\n",
       "    </tr>\n",
       "  </tbody>\n",
       "</table>\n",
       "</div>"
      ],
      "text/plain": [
       "     油耗   功率  费用  安全性  维护性  操作性\n",
       "车型                             \n",
       "本田    5  1.4   6    3    5    7\n",
       "奥迪    9  2.0  30    7    5    9\n",
       "桑塔纳   8  1.8  11    5    7    5\n",
       "别克   12  2.5  18    7    5    5"
      ]
     },
     "execution_count": 1,
     "metadata": {},
     "output_type": "execute_result"
    }
   ],
   "source": [
    "import numpy as np\n",
    "import pandas as pd\n",
    "\n",
    "##读取数据\n",
    "data=pd.read_csv('data.csv',encoding='gb18030',index_col=0)\n",
    "indicator=data.columns.tolist()   ##指标个数\n",
    "project=data.index.tolist()    ##方案数、评价主体\n",
    "value=data.values\n",
    "print(indicator)\n",
    "print(project)\n",
    "print(value)\n",
    "data.head()"
   ]
  },
  {
   "cell_type": "code",
   "execution_count": 2,
   "metadata": {
    "ExecuteTime": {
     "end_time": "2022-02-15T08:32:04.701913Z",
     "start_time": "2022-02-15T08:32:04.694922Z"
    }
   },
   "outputs": [],
   "source": [
    "###定义数据标准化函数。为了避免求熵值时对数无意义，对数据进行平移，对标准化后的数据统一加了常数0.001\n",
    "def std_data(value,flag):\n",
    "    for i in range(len(indicator)):\n",
    "        #print(flag[i])\n",
    "        if flag[i]=='+':\n",
    "            value[:,i]=(value[:,i]-np.min(value[:,i],axis=0))/(np.max(value[:,i],axis=0)-np.min(value[:,i],axis=0))+0.001\n",
    "        elif flag[i]=='-':\n",
    "            value[:,i]=(np.max(value[:,i],axis=0)-value[:,i])/(np.max(value[:,i],axis=0)-np.min(value[:,i],axis=0))+0.001\n",
    "    return value"
   ]
  },
  {
   "cell_type": "code",
   "execution_count": 3,
   "metadata": {
    "ExecuteTime": {
     "end_time": "2022-02-15T08:32:09.874934Z",
     "start_time": "2022-02-15T08:32:09.858928Z"
    }
   },
   "outputs": [],
   "source": [
    "#定义熵值法函数、熵值法计算变量的权重\n",
    "def cal_weight(indicator,project,value):\n",
    "    p= np.array([[0.0 for i in range(len(indicator))] for i in range(len(project))])                    \n",
    "    #print(p)\n",
    "    for i in range(len(indicator)):\n",
    "        p[:,i]=value[:,i]/np.sum(value[:,i],axis=0)\n",
    "        \n",
    "    e=-1/np.log(len(project))*sum(p*np.log(p))      #计算熵值\n",
    "    g=1-e     # 计算一致性程度\n",
    "    w=g/sum(g)     #计算权重\n",
    "    return w"
   ]
  },
  {
   "cell_type": "code",
   "execution_count": 4,
   "metadata": {
    "ExecuteTime": {
     "end_time": "2022-02-15T08:32:13.666392Z",
     "start_time": "2022-02-15T08:32:13.650430Z"
    }
   },
   "outputs": [
    {
     "data": {
      "text/plain": [
       "array([[1.001e+00, 1.000e-03, 1.001e+00, 1.000e-03, 1.000e-03, 5.010e-01],\n",
       "       [4.300e-01, 5.460e-01, 1.000e-03, 1.001e+00, 1.000e-03, 1.001e+00],\n",
       "       [5.720e-01, 3.650e-01, 7.930e-01, 5.010e-01, 1.001e+00, 1.000e-03],\n",
       "       [1.000e-03, 1.001e+00, 5.010e-01, 1.001e+00, 1.000e-03, 1.000e-03]])"
      ]
     },
     "execution_count": 4,
     "metadata": {},
     "output_type": "execute_result"
    }
   ],
   "source": [
    "##数据标准化\n",
    "flag=[\"-\",\"+\",\"-\",\"+\",\"+\",\"+\"]  ##表示指标为正向指标还是反向指标\n",
    "std_value=std_data(value,flag)\n",
    "std_value.round(3)"
   ]
  },
  {
   "cell_type": "code",
   "execution_count": 5,
   "metadata": {
    "ExecuteTime": {
     "end_time": "2022-02-15T08:32:22.053398Z",
     "start_time": "2022-02-15T08:32:22.021388Z"
    }
   },
   "outputs": [
    {
     "name": "stdout",
     "output_type": "stream",
     "text": [
      "#######权重:#######\n",
      "           权重\n",
      "油耗   0.100233\n",
      "功率   0.106534\n",
      "费用   0.092712\n",
      "安全性  0.094593\n",
      "维护性  0.392790\n",
      "操作性  0.213138\n"
     ]
    },
    {
     "data": {
      "text/html": [
       "<div>\n",
       "<style scoped>\n",
       "    .dataframe tbody tr th:only-of-type {\n",
       "        vertical-align: middle;\n",
       "    }\n",
       "\n",
       "    .dataframe tbody tr th {\n",
       "        vertical-align: top;\n",
       "    }\n",
       "\n",
       "    .dataframe thead th {\n",
       "        text-align: right;\n",
       "    }\n",
       "</style>\n",
       "<table border=\"1\" class=\"dataframe\">\n",
       "  <thead>\n",
       "    <tr style=\"text-align: right;\">\n",
       "      <th></th>\n",
       "      <th>综合得分</th>\n",
       "    </tr>\n",
       "    <tr>\n",
       "      <th>车型</th>\n",
       "      <th></th>\n",
       "    </tr>\n",
       "  </thead>\n",
       "  <tbody>\n",
       "    <tr>\n",
       "      <th>桑塔纳</th>\n",
       "      <td>0.61</td>\n",
       "    </tr>\n",
       "    <tr>\n",
       "      <th>奥迪</th>\n",
       "      <td>0.41</td>\n",
       "    </tr>\n",
       "    <tr>\n",
       "      <th>本田</th>\n",
       "      <td>0.30</td>\n",
       "    </tr>\n",
       "    <tr>\n",
       "      <th>别克</th>\n",
       "      <td>0.25</td>\n",
       "    </tr>\n",
       "  </tbody>\n",
       "</table>\n",
       "</div>"
      ],
      "text/plain": [
       "     综合得分\n",
       "车型       \n",
       "桑塔纳  0.61\n",
       "奥迪   0.41\n",
       "本田   0.30\n",
       "别克   0.25"
      ]
     },
     "execution_count": 5,
     "metadata": {},
     "output_type": "execute_result"
    }
   ],
   "source": [
    "##结果\n",
    "w=cal_weight(indicator,project,std_value)\n",
    "w=pd.DataFrame(w,index=data.columns,columns=['权重'])\n",
    "print(\"#######权重:#######\")\n",
    "print(w)\n",
    "score=np.dot(std_value,w).round(2)\n",
    "#print(score)\n",
    "score=pd.DataFrame(score,index=data.index,columns=['综合得分']).sort_values(by =['综合得分'],ascending = False)\n",
    "score"
   ]
  }
 ],
 "metadata": {
  "kernelspec": {
   "display_name": "Python 3",
   "language": "python",
   "name": "python3"
  },
  "language_info": {
   "codemirror_mode": {
    "name": "ipython",
    "version": 3
   },
   "file_extension": ".py",
   "mimetype": "text/x-python",
   "name": "python",
   "nbconvert_exporter": "python",
   "pygments_lexer": "ipython3",
   "version": "3.8.8"
  },
  "toc": {
   "base_numbering": 1,
   "nav_menu": {},
   "number_sections": false,
   "sideBar": false,
   "skip_h1_title": false,
   "title_cell": "Table of Contents",
   "title_sidebar": "Contents",
   "toc_cell": false,
   "toc_position": {},
   "toc_section_display": true,
   "toc_window_display": true
  },
  "varInspector": {
   "cols": {
    "lenName": 16,
    "lenType": 16,
    "lenVar": 40
   },
   "kernels_config": {
    "python": {
     "delete_cmd_postfix": "",
     "delete_cmd_prefix": "del ",
     "library": "var_list.py",
     "varRefreshCmd": "print(var_dic_list())"
    },
    "r": {
     "delete_cmd_postfix": ") ",
     "delete_cmd_prefix": "rm(",
     "library": "var_list.r",
     "varRefreshCmd": "cat(var_dic_list()) "
    }
   },
   "types_to_exclude": [
    "module",
    "function",
    "builtin_function_or_method",
    "instance",
    "_Feature"
   ],
   "window_display": false
  }
 },
 "nbformat": 4,
 "nbformat_minor": 2
}
