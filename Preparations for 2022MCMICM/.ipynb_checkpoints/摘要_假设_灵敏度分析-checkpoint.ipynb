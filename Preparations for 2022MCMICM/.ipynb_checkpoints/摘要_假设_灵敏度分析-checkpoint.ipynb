{
 "cells": [
  {
   "cell_type": "markdown",
   "id": "994e36c2",
   "metadata": {},
   "source": [
    "## 摘要"
   ]
  },
  {
   "cell_type": "markdown",
   "id": "b2ce81dc",
   "metadata": {},
   "source": [
    "![](./images/2.jpg)\n",
    "![](./images/3.jpg)\n",
    "![](./images/4.jpg)"
   ]
  },
  {
   "cell_type": "markdown",
   "id": "bd2e2bc1",
   "metadata": {},
   "source": [
    "## 假设"
   ]
  },
  {
   "cell_type": "markdown",
   "id": "4f0a586c",
   "metadata": {},
   "source": [
    "![](./images/5.jpg)\n",
    "![](./images/6.jpg)"
   ]
  },
  {
   "cell_type": "markdown",
   "id": "2d51b7c3",
   "metadata": {},
   "source": [
    "## 灵敏度分析"
   ]
  },
  {
   "cell_type": "markdown",
   "id": "35f953b6",
   "metadata": {},
   "source": [
    "![](./images/7.jpg)\n",
    "![](./images/8.jpg)\n",
    "![](./images/9.jpg)\n",
    "![](./images/10.jpg)\n",
    "![](./images/11.jpg)"
   ]
  }
 ],
 "metadata": {
  "kernelspec": {
   "display_name": "Python 3",
   "language": "python",
   "name": "python3"
  },
  "language_info": {
   "codemirror_mode": {
    "name": "ipython",
    "version": 3
   },
   "file_extension": ".py",
   "mimetype": "text/x-python",
   "name": "python",
   "nbconvert_exporter": "python",
   "pygments_lexer": "ipython3",
   "version": "3.8.8"
  },
  "toc": {
   "base_numbering": 1,
   "nav_menu": {},
   "number_sections": false,
   "sideBar": false,
   "skip_h1_title": false,
   "title_cell": "Table of Contents",
   "title_sidebar": "Contents",
   "toc_cell": false,
   "toc_position": {},
   "toc_section_display": true,
   "toc_window_display": true
  },
  "varInspector": {
   "cols": {
    "lenName": 16,
    "lenType": 16,
    "lenVar": 40
   },
   "kernels_config": {
    "python": {
     "delete_cmd_postfix": "",
     "delete_cmd_prefix": "del ",
     "library": "var_list.py",
     "varRefreshCmd": "print(var_dic_list())"
    },
    "r": {
     "delete_cmd_postfix": ") ",
     "delete_cmd_prefix": "rm(",
     "library": "var_list.r",
     "varRefreshCmd": "cat(var_dic_list()) "
    }
   },
   "types_to_exclude": [
    "module",
    "function",
    "builtin_function_or_method",
    "instance",
    "_Feature"
   ],
   "window_display": false
  }
 },
 "nbformat": 4,
 "nbformat_minor": 5
}
