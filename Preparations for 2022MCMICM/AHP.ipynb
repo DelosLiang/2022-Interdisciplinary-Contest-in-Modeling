{
 "cells": [
  {
   "cell_type": "markdown",
   "id": "e6d24ced",
   "metadata": {},
   "source": [
    "## 适用范围"
   ]
  },
  {
   "cell_type": "markdown",
   "id": "4540bca5",
   "metadata": {},
   "source": [
    "* 评价类\n",
    "\n",
    "\n",
    "* 构建指标体系"
   ]
  },
  {
   "cell_type": "markdown",
   "id": "a0ec5dad",
   "metadata": {},
   "source": [
    "## 结构模型"
   ]
  },
  {
   "cell_type": "markdown",
   "id": "51c2ca05",
   "metadata": {},
   "source": [
    "* 完全层次结构\n",
    "\n",
    "\n",
    "* 不完全层次结构"
   ]
  },
  {
   "cell_type": "markdown",
   "id": "3bfb8136",
   "metadata": {},
   "source": [
    "* 目标层\n",
    "\n",
    "\n",
    "* 准则层\n",
    "\n",
    "\n",
    "* 方案层"
   ]
  },
  {
   "cell_type": "markdown",
   "id": "fd089718",
   "metadata": {},
   "source": [
    "## 层次划分时的注意事项"
   ]
  },
  {
   "cell_type": "markdown",
   "id": "aa56c8b5",
   "metadata": {},
   "source": [
    "* 上层对下层有支配作用\n",
    "\n",
    "\n",
    "* 同一层因素相互独立\n",
    "\n",
    "\n",
    "* 每层因素一般不超过9个（心理学家通过实验认为，人对许多东西优劣及优劣程度的判断能力，最多大致在9个以内，超过这个范围就会判断失真）"
   ]
  },
  {
   "cell_type": "markdown",
   "id": "a520baeb",
   "metadata": {},
   "source": [
    "## 构建正互反矩阵"
   ]
  },
  {
   "cell_type": "markdown",
   "id": "097ad449",
   "metadata": {},
   "source": [
    "* 通过一致性检验：如果$CR=\\frac{CI}{RI}<0.1$,则判断有较强的一致性"
   ]
  }
 ],
 "metadata": {
  "kernelspec": {
   "display_name": "Python 3",
   "language": "python",
   "name": "python3"
  },
  "language_info": {
   "codemirror_mode": {
    "name": "ipython",
    "version": 3
   },
   "file_extension": ".py",
   "mimetype": "text/x-python",
   "name": "python",
   "nbconvert_exporter": "python",
   "pygments_lexer": "ipython3",
   "version": "3.8.8"
  },
  "toc": {
   "base_numbering": 1,
   "nav_menu": {},
   "number_sections": false,
   "sideBar": false,
   "skip_h1_title": false,
   "title_cell": "Table of Contents",
   "title_sidebar": "Contents",
   "toc_cell": false,
   "toc_position": {},
   "toc_section_display": false,
   "toc_window_display": true
  },
  "varInspector": {
   "cols": {
    "lenName": 16,
    "lenType": 16,
    "lenVar": 40
   },
   "kernels_config": {
    "python": {
     "delete_cmd_postfix": "",
     "delete_cmd_prefix": "del ",
     "library": "var_list.py",
     "varRefreshCmd": "print(var_dic_list())"
    },
    "r": {
     "delete_cmd_postfix": ") ",
     "delete_cmd_prefix": "rm(",
     "library": "var_list.r",
     "varRefreshCmd": "cat(var_dic_list()) "
    }
   },
   "types_to_exclude": [
    "module",
    "function",
    "builtin_function_or_method",
    "instance",
    "_Feature"
   ],
   "window_display": false
  }
 },
 "nbformat": 4,
 "nbformat_minor": 5
}
