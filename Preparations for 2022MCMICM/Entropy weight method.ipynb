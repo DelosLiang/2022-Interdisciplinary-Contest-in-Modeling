{
 "cells": [
  {
   "cell_type": "markdown",
   "id": "26f37a56",
   "metadata": {},
   "source": [
    "* 评价类赛题的关键是指标体系的构建\n",
    "\n",
    "    指标体系（属性集）\n",
    "    \n",
    "    权重的确定\n",
    "    \n",
    "    评价方法\n",
    "    \n",
    "    \n",
    " * 整体性\n",
    " \n",
    " \n",
    " * 简要性\n",
    " \n",
    " \n",
    " * 独立性\n",
    " \n",
    " \n",
    " * 可操作性\n",
    " \n",
    " \n",
    " * 可比性"
   ]
  },
  {
   "cell_type": "markdown",
   "id": "8f568c3b",
   "metadata": {},
   "source": [
    "* 熵值法是一种依据各指标值所包含的信息量的多少确定指标权重的客观赋权法，某个指标的熵越小，说明该指标值的变异程度越大，提供的信息量也就越多，在综合评价中起的作用越大，则该指标的权重也应越大。熵值法可单独进行综合评价；也可以与其他方法相结合，如层次分析法，用熵值法确定各指标的权重，然后运用层次分析法得到各个评价对象的综合得分。"
   ]
  }
 ],
 "metadata": {
  "kernelspec": {
   "display_name": "Python 3",
   "language": "python",
   "name": "python3"
  },
  "language_info": {
   "codemirror_mode": {
    "name": "ipython",
    "version": 3
   },
   "file_extension": ".py",
   "mimetype": "text/x-python",
   "name": "python",
   "nbconvert_exporter": "python",
   "pygments_lexer": "ipython3",
   "version": "3.8.8"
  },
  "toc": {
   "base_numbering": 1,
   "nav_menu": {},
   "number_sections": false,
   "sideBar": false,
   "skip_h1_title": false,
   "title_cell": "Table of Contents",
   "title_sidebar": "Contents",
   "toc_cell": false,
   "toc_position": {},
   "toc_section_display": true,
   "toc_window_display": true
  },
  "varInspector": {
   "cols": {
    "lenName": 16,
    "lenType": 16,
    "lenVar": 40
   },
   "kernels_config": {
    "python": {
     "delete_cmd_postfix": "",
     "delete_cmd_prefix": "del ",
     "library": "var_list.py",
     "varRefreshCmd": "print(var_dic_list())"
    },
    "r": {
     "delete_cmd_postfix": ") ",
     "delete_cmd_prefix": "rm(",
     "library": "var_list.r",
     "varRefreshCmd": "cat(var_dic_list()) "
    }
   },
   "types_to_exclude": [
    "module",
    "function",
    "builtin_function_or_method",
    "instance",
    "_Feature"
   ],
   "window_display": false
  }
 },
 "nbformat": 4,
 "nbformat_minor": 5
}
