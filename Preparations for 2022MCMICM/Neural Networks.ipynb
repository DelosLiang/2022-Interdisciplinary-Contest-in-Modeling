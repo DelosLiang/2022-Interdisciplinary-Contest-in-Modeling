{
 "cells": [
  {
   "cell_type": "markdown",
   "id": "2f18dd97",
   "metadata": {},
   "source": [
    "## 特点"
   ]
  },
  {
   "cell_type": "markdown",
   "id": "00539973",
   "metadata": {},
   "source": [
    "* 小样本和低维时神经网络算法的效果不如传统算法\n",
    "\n",
    "\n",
    "* 非线性的拟合能力很强\n",
    "\n",
    "\n",
    "* 对raw data比较友好，能自动从raw data中学到有用的特征"
   ]
  },
  {
   "cell_type": "markdown",
   "id": "9a775db0",
   "metadata": {},
   "source": [
    "## 原理"
   ]
  },
  {
   "cell_type": "markdown",
   "id": "d234572b",
   "metadata": {},
   "source": [
    "* 神经网络学习的过程就是**改变权值矩阵**的过程"
   ]
  },
  {
   "cell_type": "markdown",
   "id": "d3d4cb8e",
   "metadata": {},
   "source": [
    "## 过程"
   ]
  },
  {
   "cell_type": "markdown",
   "id": "ea1bff91",
   "metadata": {},
   "source": [
    "1. 学习过程中各神经元进行规则学习，权参数调整，进行非线性映射关系拟合以达到训练精度\n",
    "\n",
    "\n",
    "2. 判断阶段则是训练好的稳定的网络读取输入信息通过计算得到输出结果"
   ]
  },
  {
   "cell_type": "markdown",
   "id": "8a7b0c84",
   "metadata": {},
   "source": [
    "* 训练集(Training set)：作用是用来拟合模型，通过设置分类器的参数，训练分类模型。后续结合验证集作用时，会选出同一参数的不同取值，拟合出多个分类器。\n",
    "\n",
    "\n",
    "* 验证集(Validation set)：作用是当通过训练集训练出多个模型后，为了能找出效果最佳的模型，使用各个模型对验证集数据进行预测，并记录模型准确率。选出效果最佳的模型所对应的参数，即用来调整模型参数。\n",
    "\n",
    "\n",
    "* 测试集(Test set)：通过训练集和验证集得出最优模型后，使用测试集进行模型预测。用来衡量该最优模型的性能和分类能力。即可以把测试集当作从来不存在的数据集，当已经确定模型参数后，使用测试集进行模型性能评价。"
   ]
  },
  {
   "cell_type": "markdown",
   "id": "63eaf6ea",
   "metadata": {},
   "source": [
    "## 数据归一化"
   ]
  },
  {
   "cell_type": "markdown",
   "id": "62e0cb08",
   "metadata": {},
   "source": [
    "* 把数据限制在[0，1]或者[-1，1]\n",
    "\n",
    "\n",
    "* 奇异样本数据的存在会引起训练时间增大，并可能无法收敛\n",
    "\n",
    "\n",
    "* 最大-最小标准化，Z-score标准化，函数转化"
   ]
  },
  {
   "cell_type": "markdown",
   "id": "ffbede2f",
   "metadata": {},
   "source": [
    "## 训练效果"
   ]
  },
  {
   "cell_type": "markdown",
   "id": "a442d2f5",
   "metadata": {},
   "source": [
    "* 误差直方图\n",
    "\n",
    "\n",
    "* 混淆矩阵\n",
    "\n",
    "\n",
    "* ROC曲线"
   ]
  },
  {
   "cell_type": "markdown",
   "id": "8bdad8f3",
   "metadata": {},
   "source": [
    "## BP神经网络"
   ]
  },
  {
   "cell_type": "markdown",
   "id": "814a9233",
   "metadata": {},
   "source": [
    "![](./images/1.png)"
   ]
  }
 ],
 "metadata": {
  "kernelspec": {
   "display_name": "Python 3",
   "language": "python",
   "name": "python3"
  },
  "language_info": {
   "codemirror_mode": {
    "name": "ipython",
    "version": 3
   },
   "file_extension": ".py",
   "mimetype": "text/x-python",
   "name": "python",
   "nbconvert_exporter": "python",
   "pygments_lexer": "ipython3",
   "version": "3.8.8"
  },
  "toc": {
   "base_numbering": 1,
   "nav_menu": {},
   "number_sections": false,
   "sideBar": false,
   "skip_h1_title": false,
   "title_cell": "Table of Contents",
   "title_sidebar": "Contents",
   "toc_cell": false,
   "toc_position": {},
   "toc_section_display": false,
   "toc_window_display": true
  },
  "varInspector": {
   "cols": {
    "lenName": 16,
    "lenType": 16,
    "lenVar": 40
   },
   "kernels_config": {
    "python": {
     "delete_cmd_postfix": "",
     "delete_cmd_prefix": "del ",
     "library": "var_list.py",
     "varRefreshCmd": "print(var_dic_list())"
    },
    "r": {
     "delete_cmd_postfix": ") ",
     "delete_cmd_prefix": "rm(",
     "library": "var_list.r",
     "varRefreshCmd": "cat(var_dic_list()) "
    }
   },
   "types_to_exclude": [
    "module",
    "function",
    "builtin_function_or_method",
    "instance",
    "_Feature"
   ],
   "window_display": false
  }
 },
 "nbformat": 4,
 "nbformat_minor": 5
}
