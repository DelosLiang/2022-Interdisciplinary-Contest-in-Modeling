{
 "cells": [
  {
   "cell_type": "markdown",
   "id": "3d2ee36f",
   "metadata": {},
   "source": [
    "# <center>Preparations for 2022MCM</center>"
   ]
  },
  {
   "cell_type": "markdown",
   "id": "4c52307a",
   "metadata": {},
   "source": [
    "## General Guidelines for Problem C"
   ]
  },
  {
   "cell_type": "markdown",
   "id": "4223246b",
   "metadata": {},
   "source": [
    "* Define all metrics and cost functions that you use.\n",
    "\n",
    "\n",
    "* Any estimate of a parameter should include an interval estimate.\n",
    "\n",
    "\n",
    "* Any result should include estimates with respect to the goodness of fit of the results.\n",
    "\n",
    "\n",
    "* All assuptions should be clearly stated especially with respect to distributions associated with the data or errors.\n",
    "\n",
    "\n",
    "* All assumptions associated with the data should be checked, and the robustness of a technique with respect to those assuptions should be examined.\n",
    "\n",
    "\n",
    "* All assumptions associated with an approach or technique should be clearly stated."
   ]
  },
  {
   "cell_type": "markdown",
   "id": "267107a3",
   "metadata": {},
   "source": [
    "## Tips"
   ]
  },
  {
   "cell_type": "markdown",
   "id": "cade7dcb",
   "metadata": {},
   "source": [
    "### Make a workflow to clarify mutiple work"
   ]
  },
  {
   "cell_type": "markdown",
   "id": "ebdacf9e",
   "metadata": {},
   "source": [
    "## 1 Introduction"
   ]
  },
  {
   "cell_type": "markdown",
   "id": "ae999b1c",
   "metadata": {},
   "source": [
    "## 2 Assumption"
   ]
  },
  {
   "cell_type": "markdown",
   "id": "5bd7e621",
   "metadata": {},
   "source": [
    "## 3 Abbreviations and Symbols"
   ]
  },
  {
   "cell_type": "markdown",
   "id": "11658a00",
   "metadata": {},
   "source": [
    "## 4 Model Construction"
   ]
  },
  {
   "cell_type": "markdown",
   "id": "6ca0ad18",
   "metadata": {},
   "source": [
    "* time-step difference equation\n",
    "\n",
    "\n",
    "* Monte Carlo simulation(in Reinforcement learning)\n",
    "\n",
    "\n",
    "* Analytic Hierarchy Processing(AHP)\n",
    "\n",
    "    The analytic hierarchy process (AHP), also analytical hierarchy process, is a structured technique for organizing and analyzing complex decisions, based on mathematics and psychology. \n",
    "    \n",
    "\n",
    "* Convolutional Neural Network\n",
    "\n",
    "    ResNet is a traditional CNN model for classification, using Residual learning.\n",
    "\n",
    "\n",
    "* Natural Language Processing"
   ]
  }
 ],
 "metadata": {
  "kernelspec": {
   "display_name": "Python 3",
   "language": "python",
   "name": "python3"
  },
  "language_info": {
   "codemirror_mode": {
    "name": "ipython",
    "version": 3
   },
   "file_extension": ".py",
   "mimetype": "text/x-python",
   "name": "python",
   "nbconvert_exporter": "python",
   "pygments_lexer": "ipython3",
   "version": "3.8.8"
  },
  "toc": {
   "base_numbering": 1,
   "nav_menu": {},
   "number_sections": false,
   "sideBar": false,
   "skip_h1_title": false,
   "title_cell": "Table of Contents",
   "title_sidebar": "Contents",
   "toc_cell": false,
   "toc_position": {
    "height": "99.9958px",
    "left": "10px",
    "top": "150px",
    "width": "165px"
   },
   "toc_section_display": false,
   "toc_window_display": true
  },
  "varInspector": {
   "cols": {
    "lenName": 16,
    "lenType": 16,
    "lenVar": 40
   },
   "kernels_config": {
    "python": {
     "delete_cmd_postfix": "",
     "delete_cmd_prefix": "del ",
     "library": "var_list.py",
     "varRefreshCmd": "print(var_dic_list())"
    },
    "r": {
     "delete_cmd_postfix": ") ",
     "delete_cmd_prefix": "rm(",
     "library": "var_list.r",
     "varRefreshCmd": "cat(var_dic_list()) "
    }
   },
   "types_to_exclude": [
    "module",
    "function",
    "builtin_function_or_method",
    "instance",
    "_Feature"
   ],
   "window_display": false
  }
 },
 "nbformat": 4,
 "nbformat_minor": 5
}
