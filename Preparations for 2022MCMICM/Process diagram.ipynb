{
 "cells": [
  {
   "cell_type": "markdown",
   "id": "e6c1f85e",
   "metadata": {},
   "source": [
    "## 组成要素"
   ]
  },
  {
   "cell_type": "markdown",
   "id": "6031131f",
   "metadata": {},
   "source": [
    "* 数据：平行四边形、立方体、圆柱形\n",
    "\n",
    "\n",
    "* 数据处理过程：矩形\n",
    "\n",
    "\n",
    "* 判断：菱形（不满足条件的话要重新进行数据处理）\n",
    "\n",
    "\n",
    "* 结果：圆角矩形"
   ]
  },
  {
   "cell_type": "markdown",
   "id": "39fa7c53",
   "metadata": {},
   "source": [
    "* 黑框、黑字、黑箭头，框框的高度约为文字的高度的两倍\n",
    "\n",
    "\n",
    "* 所有框框的大小尽量保持一致"
   ]
  },
  {
   "cell_type": "markdown",
   "id": "7cc8116f",
   "metadata": {},
   "source": [
    "* 数据可拆分为训练集和测试集\n",
    "\n",
    "\n",
    "* 数据预处理拆分为（小波）数据异常值计算（剔除掉后拟合、取平均）、（三次样条）数据补全（差值）\n",
    "\n",
    "\n",
    "* 数据分析拆分为时间分析、空间分析等等\n",
    "\n",
    "\n",
    "* 模型也要进行拆分\n",
    "\n",
    "\n",
    "* 加虚线框"
   ]
  }
 ],
 "metadata": {
  "kernelspec": {
   "display_name": "Python 3",
   "language": "python",
   "name": "python3"
  },
  "language_info": {
   "codemirror_mode": {
    "name": "ipython",
    "version": 3
   },
   "file_extension": ".py",
   "mimetype": "text/x-python",
   "name": "python",
   "nbconvert_exporter": "python",
   "pygments_lexer": "ipython3",
   "version": "3.8.8"
  },
  "toc": {
   "base_numbering": 1,
   "nav_menu": {},
   "number_sections": false,
   "sideBar": false,
   "skip_h1_title": false,
   "title_cell": "Table of Contents",
   "title_sidebar": "Contents",
   "toc_cell": false,
   "toc_position": {},
   "toc_section_display": false,
   "toc_window_display": true
  },
  "varInspector": {
   "cols": {
    "lenName": 16,
    "lenType": 16,
    "lenVar": 40
   },
   "kernels_config": {
    "python": {
     "delete_cmd_postfix": "",
     "delete_cmd_prefix": "del ",
     "library": "var_list.py",
     "varRefreshCmd": "print(var_dic_list())"
    },
    "r": {
     "delete_cmd_postfix": ") ",
     "delete_cmd_prefix": "rm(",
     "library": "var_list.r",
     "varRefreshCmd": "cat(var_dic_list()) "
    }
   },
   "types_to_exclude": [
    "module",
    "function",
    "builtin_function_or_method",
    "instance",
    "_Feature"
   ],
   "window_display": false
  }
 },
 "nbformat": 4,
 "nbformat_minor": 5
}
