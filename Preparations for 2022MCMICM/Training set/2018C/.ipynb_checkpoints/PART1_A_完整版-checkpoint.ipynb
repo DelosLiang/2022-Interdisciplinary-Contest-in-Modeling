{
 "cells": [
  {
   "cell_type": "markdown",
   "id": "81118551",
   "metadata": {},
   "source": [
    "## Data mining"
   ]
  },
  {
   "cell_type": "markdown",
   "id": "a49cfecb",
   "metadata": {},
   "source": [
    "In order to get the energy profile of the four states, we will describe the situation in the four states from five perspectives: electricity, transportation fuels, energy storage, clean energy including renewable energy and nonrenewable energy."
   ]
  },
  {
   "cell_type": "markdown",
   "id": "68a9df7b",
   "metadata": {},
   "source": [
    "### Electricity"
   ]
  },
  {
   "cell_type": "markdown",
   "id": "37077a25",
   "metadata": {},
   "source": [
    "Among many indicators of electricity consumption, we selected the total electricity consumption of the four states from 1960 to 2009 as our standard for measuring the electricity demand of the four states. We then plotted the trends over about 50 years in **Figure1**."
   ]
  },
  {
   "cell_type": "markdown",
   "id": "65d09c38",
   "metadata": {},
   "source": [
    "![](./images/1.svg)"
   ]
  },
  {
   "cell_type": "markdown",
   "id": "a9d43000",
   "metadata": {},
   "source": [
    "p.s.此图有bug，正常版本在images文件夹里有同名pdf"
   ]
  },
  {
   "cell_type": "markdown",
   "id": "d5a3aeef",
   "metadata": {},
   "source": [
    "Figure1: First we can easily conclude that total electricity consumption in all four states has grown over time. In addition to this, it is not difficult to see from the graph that the growth in total electricity consumption in New Mexico and Arizona is much more moderate compared to the changes in total electricity consumption in California and Texas. Finally, we can also see that around 1978 Texas surpassed California in total electricity consumption."
   ]
  },
  {
   "cell_type": "markdown",
   "id": "f2dd397d",
   "metadata": {},
   "source": [
    "### Trasportation fuels"
   ]
  },
  {
   "cell_type": "markdown",
   "id": "0f9e8411",
   "metadata": {},
   "source": [
    "In this part, we simply compare the data of the four states from 1960 to 2009 to obtain a series of rates of change. We select the following three dimensions to measure the changes in transportation fuels: total aviation fuel consumption, total motor vehicle fuel consumption consumption and total jet fuel consumption. We present the comparison results in **figure 2**."
   ]
  },
  {
   "cell_type": "markdown",
   "id": "28ed43f9",
   "metadata": {},
   "source": [
    "![](.\\images\\2.svg)"
   ]
  },
  {
   "cell_type": "markdown",
   "id": "f8490c50",
   "metadata": {},
   "source": [
    "p.s.此图有bug，正常版本在images文件夹里有同名pdf"
   ]
  },
  {
   "cell_type": "markdown",
   "id": "ee142269",
   "metadata": {},
   "source": [
    "Figure 2: From this comprehensive histogram, we can see that space fuel in four states has decreased by more than 50% over the past 50 years, while the increase in space fuel has been below 50%. Surprisingly, all four states have seen fairly large increases in motor fuel, with Texas over 200% and Arizona over 400%, and I think energy departments in each state should take these numbers seriously."
   ]
  },
  {
   "cell_type": "markdown",
   "id": "f39e5c3f",
   "metadata": {},
   "source": [
    "### Energy storage"
   ]
  },
  {
   "cell_type": "markdown",
   "id": "12f2a8d6",
   "metadata": {},
   "source": [
    "In this subsection, we compare crude oil storage in four states in 1960 and 2009, and we present each state's crude oil share in a pie chart **Figure 3**."
   ]
  },
  {
   "cell_type": "markdown",
   "id": "9f5dcd92",
   "metadata": {},
   "source": [
    "![](./images/3.svg)"
   ]
  },
  {
   "cell_type": "markdown",
   "id": "1ba6a87a",
   "metadata": {},
   "source": [
    "p.s. 这个图比之前版本稍微优化过，记得改。"
   ]
  },
  {
   "cell_type": "markdown",
   "id": "0f40790c",
   "metadata": {},
   "source": [
    "Figure 3: By comparison, we can intuitively see that the original storage situation of each state in the past 50 years is still roughly the same. It is worth noting that Texas has historically held a very large proportion of crude oil reserves, while Arizona's crude oil reserves are insignificant in comparison. Finally, the proportion of California's crude oil reserves has increased while the total amount has decreased."
   ]
  },
  {
   "cell_type": "markdown",
   "id": "44cb3cb2",
   "metadata": {},
   "source": [
    "### Clean energy"
   ]
  },
  {
   "cell_type": "markdown",
   "id": "85f82436",
   "metadata": {},
   "source": [
    "#### Nonrenewable energy"
   ]
  },
  {
   "cell_type": "markdown",
   "id": "6e9c308e",
   "metadata": {},
   "source": [
    "We know that clean energy can be divided into renewable energy and non-renewable energy, among which the representative of non-renewable clean energy is natural gas. With the growing concern about climate change, people have begun to realize that traditional fossil fuels, such as coal, oil, etc., release a lot of harmful gases during the combustion process, so people have begun to seek their alternatives. Compared with traditional fossil fuels, natural gas has the characteristics of easy storage (very high storage efficiency in the case of pressurized liquefaction), less pollution, and abundant reserves. At the same time, natural gas is more abundant and more energy supply than other new renewable energy sources. It is convenient and fast, and the cost of transportation by pipeline is also very low.\n",
    "\n",
    "\n",
    "In this subsection, we select four states that have fluctuated in the average price of natural gas over the past 50 years to reflect the use of natural gas in each state. Seasonality plays an important role in analyzing natural gas supply and demand. It helps gas producers, storage facilities and energy utilities manage inventory risk, as well as financial price risk in the marketplace. Natural gas production is relatively stable, but there can be unexpected disruptions, such as temporary repairs, explosions or extreme weather. Seasonality has little effect on changes in natural gas production. Stocks and consumption often exhibit seasonal patterns, with relatively high price elasticity. That is, natural gas storage and consumption can quickly respond to market price fluctuations.\n",
    "\n",
    "\n",
    "We plotted data over the past five decades for four states as a scatterplot and projected natural gas price changes from 2010 to 2025. We present the graph in **Figure 4**. It can be seen from the figure that the natural gas price fluctuations of the four states in the past 50 years are basically the same, but they are not completely the same. We think this is related to the federal system of the United States, but each state has its own unique situation and its own independent state government and energy sector. From the change trend of the scatter points in the figure, we can see that the natural gas prices in the four states showed an upward trend from 1970 to 1985 and from 2000 to 2008, and the prices basically changed little in the middle of about fifteen years. It's worth noting that natural gas prices in all four states dropped significantly in 2009, and I think something must have caused this common mutation. We also made predictions for the next 16 years based on previous data. Taking California as an example, excluding the impact of other emergencies, we can predict that natural gas prices in California may drop to $4.9 per million Btu in 2023."
   ]
  },
  {
   "cell_type": "markdown",
   "id": "e99ca710",
   "metadata": {},
   "source": [
    "![](./images/4.svg)"
   ]
  },
  {
   "cell_type": "markdown",
   "id": "56afa27c",
   "metadata": {},
   "source": [
    "<center>Figure 4: Price Outlook for Natural Gas</center>"
   ]
  },
  {
   "cell_type": "markdown",
   "id": "6ab5339b",
   "metadata": {},
   "source": [
    "p.s这个图比较复杂而且耗时，等C问做完了再把剩下三个图补上。"
   ]
  },
  {
   "cell_type": "markdown",
   "id": "664263ba",
   "metadata": {},
   "source": [
    "#### Renewable energy"
   ]
  },
  {
   "cell_type": "markdown",
   "id": "330f4ed7",
   "metadata": {},
   "source": [
    "We know that the most representative renewable energy sources are solar energy, wind energy, geothermal energy, hydroelectric energy and biomass energy. Although the role of these energy forms today is still insignificant compared to traditional fossil fuels, they represent the future direction of energy. In this subsection, we choose bioenergy as a special case for discussion, and other forms of renewable energy will be explored in depth in later sections. We present the development of bioenergy in four states in **Table 5**."
   ]
  },
  {
   "cell_type": "markdown",
   "id": "8a526b4a",
   "metadata": {},
   "source": [
    "![](./images/5.svg)"
   ]
  },
  {
   "cell_type": "markdown",
   "id": "ed893926",
   "metadata": {},
   "source": [
    "Figure 5: We find that California, Arizona, and New Mexico's total bioenergy consumption growth is basically the same, in contrast, Texas' bioenergy consumption is significant and maintains a sustained increase."
   ]
  }
 ],
 "metadata": {
  "kernelspec": {
   "display_name": "Python 3",
   "language": "python",
   "name": "python3"
  },
  "language_info": {
   "codemirror_mode": {
    "name": "ipython",
    "version": 3
   },
   "file_extension": ".py",
   "mimetype": "text/x-python",
   "name": "python",
   "nbconvert_exporter": "python",
   "pygments_lexer": "ipython3",
   "version": "3.8.8"
  },
  "toc": {
   "base_numbering": 1,
   "nav_menu": {},
   "number_sections": false,
   "sideBar": false,
   "skip_h1_title": false,
   "title_cell": "Table of Contents",
   "title_sidebar": "Contents",
   "toc_cell": false,
   "toc_position": {},
   "toc_section_display": false,
   "toc_window_display": true
  },
  "varInspector": {
   "cols": {
    "lenName": 16,
    "lenType": 16,
    "lenVar": 40
   },
   "kernels_config": {
    "python": {
     "delete_cmd_postfix": "",
     "delete_cmd_prefix": "del ",
     "library": "var_list.py",
     "varRefreshCmd": "print(var_dic_list())"
    },
    "r": {
     "delete_cmd_postfix": ") ",
     "delete_cmd_prefix": "rm(",
     "library": "var_list.r",
     "varRefreshCmd": "cat(var_dic_list()) "
    }
   },
   "types_to_exclude": [
    "module",
    "function",
    "builtin_function_or_method",
    "instance",
    "_Feature"
   ],
   "window_display": false
  }
 },
 "nbformat": 4,
 "nbformat_minor": 5
}
