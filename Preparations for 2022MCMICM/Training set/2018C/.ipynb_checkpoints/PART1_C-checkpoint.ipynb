{
 "cells": [
  {
   "cell_type": "markdown",
   "id": "684ec166",
   "metadata": {},
   "source": [
    "## Problem: Building an optimal function to find the best profile"
   ]
  },
  {
   "cell_type": "markdown",
   "id": "1c95fa8b",
   "metadata": {},
   "source": [
    "### Notations"
   ]
  },
  {
   "cell_type": "markdown",
   "id": "28081679",
   "metadata": {},
   "source": [
    "Before we begin analyzing the problem, it is necessary to clarify the abbreviations and symbols that we will be using in our discussion. These are shown below in **Table 1**:"
   ]
  },
  {
   "cell_type": "markdown",
   "id": "a6ca67ab",
   "metadata": {},
   "source": [
    "<center>Table 1: Abbreviations and Symbols</center>"
   ]
  },
  {
   "cell_type": "markdown",
   "id": "e54b5aa6",
   "metadata": {},
   "source": [
    "|Symbol/Abbreviation|Description|\n",
    "|:---:|:---:|\n",
    "|$A_1$|Natural gas consumed by the electric|\n",
    "|$A_2$|Electricity produced from solar energ|\n",
    "|$A_3$|Electricity produced from wind energy|\n",
    "|$A_4$|Electricity produced from geothermal energy|\n",
    "|$A_5$|Hydroelectricity produced by the electric|\n",
    "|$w$|The importance of the row vector to the column|\n",
    "|$CR_{j}$|Metrics for Consistency Checks|"
   ]
  },
  {
   "cell_type": "markdown",
   "id": "140c56a0",
   "metadata": {},
   "source": [
    "### Processing the data"
   ]
  },
  {
   "cell_type": "markdown",
   "id": "6a2d013b",
   "metadata": {},
   "source": [
    "In the data mining section, we only discussed biofuels when discussing clean and renewable energy, and we will discuss clean and renewable energy in detail in this section.\n",
    "\n",
    "\n",
    "First of all, we selected several key factors for this problem in the huge data set. In clean energy, we selected the consumption of natural gas in power generation as the representative of non-renewable energy, we defined it as A1, in the renewable energy , we select solar power, wind power, geothermal power, and hydropower as our indicators to measure the use of renewable energy in four states, and we define them as A2, A3, A4, and A5 in turn. In addition, among the fuels used in traditional power generation, we selected coal, crude oil, wood and garbage as representatives, and we simply added up the consumption of these fuels in data processing.\n",
    "\n",
    "\n",
    "We get the percentage of renewable and non-renewable energy and the percentage of clean energy and conventional energy used in the four states from 2007 to 2009, respectively in **Figure 1**."
   ]
  },
  {
   "cell_type": "markdown",
   "id": "ca80b881",
   "metadata": {},
   "source": [
    "![](./images/6.svg)\n",
    "![](./images/7.svg)"
   ]
  },
  {
   "cell_type": "markdown",
   "id": "1ba2086d",
   "metadata": {},
   "source": [
    "<center>Figure 1: Percentage of energy use in four states over last three years</center>"
   ]
  },
  {
   "cell_type": "markdown",
   "id": "d8bc5401",
   "metadata": {},
   "source": [
    "p.s.这两张图放一行，另外导入的svg图片有点bug，images文件夹里有正常的pdf文件，编号和svg文件一样。"
   ]
  },
  {
   "cell_type": "markdown",
   "id": "d51e0222",
   "metadata": {},
   "source": [
    "### Results"
   ]
  },
  {
   "cell_type": "markdown",
   "id": "20a4e91a",
   "metadata": {},
   "source": [
    "Comparing the values of elements on the matrix is determined by the head, and the following rules are followed:In order to find out the best profile for use of cleaner and renewable energy in 2009, we should combine all the factors together, including all clean energy and traditional energy features. We use **Analytic Hierarchy Processing(AHP)** to determine the weight of the factors. According to *Projected Costs of Generating Electricity 2020 Edition*, in a clean energy future, natural gas appears to be the most valuable, followed by solar and hydro, and finally wind and geothermal. The judging matrix is shown below in **Table 2** and the version of heat map in **Figure 2**. Comparing the values of elements on the matrix is determined by the head, and the following rules are followed in **Table 3**:"
   ]
  },
  {
   "cell_type": "markdown",
   "id": "dd5eaab7",
   "metadata": {},
   "source": [
    "<center>Table 2: The Judging Matrix</center>"
   ]
  },
  {
   "cell_type": "markdown",
   "id": "bfc0d457",
   "metadata": {},
   "source": [
    "||$A_1$|$A_2$|$A_3$|$A_4$|$A_5$|\n",
    "|---|---|---|---|---|---|\n",
    "|$A_1$|1|5|7|9|5|\n",
    "|$A_2$|1/5|1|3|5|1|\n",
    "|$A_3$|1/7|1/3|1|5|1/5|\n",
    "|$A_4$|1/9|1/5|1/5|1|1/7|\n",
    "|$A_5$|1/5|1|5|7|1|"
   ]
  },
  {
   "cell_type": "markdown",
   "id": "add882cf",
   "metadata": {},
   "source": [
    "<center>Table 3: Compare the scale of matrices</center>"
   ]
  },
  {
   "cell_type": "markdown",
   "id": "cd80de01",
   "metadata": {},
   "source": [
    "|scale|1|2|3|4|5|6|7|8|9|\n",
    "|---|---|---|---|---|---|---|---|---|---|\n",
    "|importance|the same||slightly stronger||strong||obviously strong||absolutely strong|"
   ]
  },
  {
   "cell_type": "markdown",
   "id": "9b8a9bdf",
   "metadata": {},
   "source": [
    "<center>Figure 2: Judging Matrix for Five Factors' Heat Map</center>"
   ]
  },
  {
   "cell_type": "markdown",
   "id": "85e70ab1",
   "metadata": {},
   "source": [
    "![](./images/8.svg)"
   ]
  },
  {
   "cell_type": "markdown",
   "id": "06d0e8eb",
   "metadata": {},
   "source": [
    "p.s. Table 2和Table 3放在一列，然后两个表和Figure 2放在一行，左右对比"
   ]
  },
  {
   "cell_type": "markdown",
   "id": "a07c8cd3",
   "metadata": {},
   "source": [
    "We have for an $n$ by $n$ consistent matrix $A : A^k = n^{k-1}A, A = (w_i/w_j)$. A near consistent matrix is a small reciprocal(multiplicative) perturbation of a consistent matrix. It is given by the Hadamard product: $A = W · E$, where $W = (w_i/w_j)$ and $E \\equiv (\\epsilon _{ij}), \\epsilon _(ji) = \\epsilon_{ij}^{-1}$. Small means $\\epsilon _{ij}$ is close to one. Unlike an additive perturbation of the form $\\alpha _{ij} + \\gamma_{ij}$, a reciprocal perturbation $\\alpha_{ij}\\gamma_{ij}, \\epsilon _(ji) = \\epsilon_{ij}^{-1}$ is multiplicative. It can be transformed to an additive perturbation of a consistent matrix by writing:\n",
    "\n",
    "$$\\frac{w_i}{w_j} + \\gamma_{ij} = \\frac{w_i}{w_j}\\epsilon_{ij},  \\epsilon_{ij} = 1 + \\frac{w_j}{w_i}\\gamma_{ij}$$\n",
    "\n",
    "\n",
    "$$\\epsilon_{ji} = \\epsilon_{ij}^{-1} = \\frac{w_j}{w_i} + \\gamma_{ji} = \\frac{1}{1 + \\frac{w_j}{w_i}\\gamma_{ij}}$$\n",
    "\n",
    "Note that with a reciprocal perturbation we ensure that $\\lambda_{max} \\ge n$ which helps determine the validity of $w$ as a priorioty vector of a near consistent matrix.\n",
    "We have\n",
    "\n",
    "$\\sum_{j=1}^{n}\\epsilon_{ij} = \\sum_{j}\\alpha_{ij}w_j/w_i = [Aw]_i/w_i = \\lambda_{max}w_i/w_i \\\\= \\lambda_{max}$\n",
    "\n",
    "The computation\n",
    "\n",
    "$n\\lambda_{max} = \\sum_{i=1}^{n}(\\sum_{j=i}^{n}\\epsilon_{ij}) = \\sum_{i=1}^{n}\\epsilon_{ii} + \\sum_{i,j=1\\\\i\\neq j}^{n}(\\epsilon_{ij} + \\epsilon_{ji})$\n",
    "\n",
    "$= n + \\sum_{i,j=1\\\\i\\neq j}^{n}(\\epsilon_{ij} + \\epsilon_{ji})^{-1} \\ge n + (n^2 - n)/2 = n^2$\n",
    "\n",
    "\n",
    "reveals that $\\lambda_{max} \\ge n$. Moreover, since $x + 1/x \\ge 2$ for all $x > 0$, with equality if and only if $x = 1$, we see that $\\lambda_{max} = n$ if and only if all $\\epsilon_{ij} = 1$, which is equivalent to having all $\\alpha_{ij} = w_i/w_j$. The foregoing arguments show that a positive reciprocal matrix $A$ has $\\lambda_{max} \\ge n$, with equality if and only if $A$ is consistent[1]."
   ]
  },
  {
   "cell_type": "markdown",
   "id": "5f38c8bc",
   "metadata": {},
   "source": [
    "The algorithm flow is below：\n",
    "\n",
    "The criterion layer extracts the importance weights from the factor importance matrix ($5x5$ matrix). Its practical significance is the importance of each factor.\n",
    "That is to say, the input is a $5x5$ matrix, the value is the importance of each factor in pairs, and the output is the respective weights of the five factors.\n",
    "\n",
    "Scheme layer, four states have $4x4$ matrices for each factor (five $4x4$ matrices in total). That is, for each factor, the importance weights of the four states can be calculated.\n",
    "\n",
    "Then the five importance weights are combined and multiplied by the importance weights of the criterion layer. The importance weight of each state is obtained, that is, the score.\n",
    "\n",
    "Since $CR_{j} < 0.10$, the result is confirmed to be reliable. For every single point, the corresponding score is the weighted average of the three factors. We present the final result in **Table 4**."
   ]
  },
  {
   "cell_type": "markdown",
   "id": "d23c1ee3",
   "metadata": {},
   "source": [
    "<center>Table 4: The Results</center>"
   ]
  },
  {
   "cell_type": "markdown",
   "id": "9e71ad10",
   "metadata": {},
   "source": [
    "||$CR_j$|Consistency check|\n",
    "|---|---|:---:|\n",
    "||||\n",
    "|$A_1$|$7.35\\times 10^{-7}$|True|\n",
    "|$A_2$|$5.15\\times 10^{-2}$|True|\n",
    "|$A_3$|$1.21\\times 10^{-3}$|True|\n",
    "|$A_4$|$6.57\\times 10^{-16}$|True|\n",
    "|$A_5$|$4.87\\times 10^{-2}$|True|"
   ]
  },
  {
   "cell_type": "markdown",
   "id": "fee366f7",
   "metadata": {},
   "source": [
    "||CA|AZ|NM|TX|\n",
    "|:---:|:---:|:---:|:---:|:---:|\n",
    "|$W$|0.45|0.25|0.15|0.25|"
   ]
  },
  {
   "cell_type": "markdown",
   "id": "ec7cf1fa",
   "metadata": {},
   "source": [
    "p.s.把这两个表放在一行。"
   ]
  },
  {
   "cell_type": "markdown",
   "id": "b17b57a2",
   "metadata": {},
   "source": [
    "Through the above analysis and the final results, we can get that California have the “best” profile for use of cleaner, renewable energy in 2009."
   ]
  },
  {
   "cell_type": "markdown",
   "id": "fe8f472f",
   "metadata": {},
   "source": [
    "## Refrences"
   ]
  },
  {
   "cell_type": "markdown",
   "id": "cca855b8",
   "metadata": {},
   "source": [
    "[1]Thomas L. Saaty, Decision-making with the AHP: Why is the principal eigenvector necessary 145(2003)85-91."
   ]
  },
  {
   "cell_type": "markdown",
   "id": "656988bb",
   "metadata": {},
   "source": [
    "## Appendices"
   ]
  },
  {
   "cell_type": "markdown",
   "id": "5f957c68",
   "metadata": {},
   "source": [
    "### Appendix A Code"
   ]
  },
  {
   "cell_type": "markdown",
   "id": "6dc960e4",
   "metadata": {},
   "source": [
    "#### A.1 Source Code for Analytic Hierarchy Processing"
   ]
  },
  {
   "cell_type": "code",
   "execution_count": null,
   "id": "a2892002",
   "metadata": {},
   "outputs": [],
   "source": [
    "import numpy as np\n",
    "import pandas as pd\n",
    "import warnings\n",
    "\n",
    "\n",
    "class AHP:\n",
    "    def __init__(self, criteria, b):\n",
    "        self.RI = (0, 0, 0.58, 0.9, 1.12, 1.24, 1.32, 1.41, 1.45, 1.49)\n",
    "        self.criteria = criteria\n",
    "        self.b = b\n",
    "        self.num_criteria = criteria.shape[0]\n",
    "        self.num_project = b[0].shape[0]\n",
    "\n",
    "    def cal_weights(self, input_matrix):\n",
    "        input_matrix = np.array(input_matrix)\n",
    "        n, n1 = input_matrix.shape\n",
    "        assert n == n1, 'not a square matrix'\n",
    "        for i in range(n):\n",
    "            for j in range(n):\n",
    "                if np.abs(input_matrix[i, j] * input_matrix[j, i] - 1) > 1e-7:\n",
    "                    raise ValueError('not an anti-mutually symmetric matrix')\n",
    "\n",
    "        eigenvalues, eigenvectors = np.linalg.eig(input_matrix)\n",
    "\n",
    "        max_idx = np.argmax(eigenvalues)\n",
    "        max_eigen = eigenvalues[max_idx].real\n",
    "        eigen = eigenvectors[:, max_idx].real\n",
    "        eigen = eigen / eigen.sum()\n",
    "\n",
    "        if n > 9:\n",
    "            CR = None\n",
    "            warnings.warn('Unable to judge consistency')\n",
    "        else:\n",
    "            CI = (max_eigen - n) / (n - 1)\n",
    "            CR = CI / self.RI[n-1]\n",
    "        return max_eigen, CR, eigen\n",
    "\n",
    "    def run(self):\n",
    "        max_eigen, CR, criteria_eigen = self.cal_weights(self.criteria)\n",
    "        print('Criterion layer: maximum eigenvalue {:<5f}, CR={:<5f}, \n",
    "              test {} passed'\\\n",
    "              .format(max_eigen, CR, '' if CR < 0.1 else 'no'))\n",
    "        print('Criterion layer weight={}\\n'.format(criteria_eigen))\n",
    "\n",
    "        max_eigen_list, CR_list, eigen_list = [], [], []\n",
    "        for i in self.b:\n",
    "            max_eigen, CR, eigen = self.cal_weights(i)\n",
    "            max_eigen_list.append(max_eigen)\n",
    "            CR_list.append(CR)\n",
    "            eigen_list.append(eigen)\n",
    "\n",
    "        pd_print = pd.DataFrame(eigen_list,\n",
    "                                index=['criterion' + \\\\\n",
    "                                       str(i) for i in \\\\\n",
    "                                       range(self.num_criteria)],\n",
    "                                columns=['plan' + \\\\\n",
    "                                         str(i) for i in \\\\\n",
    "                                         range(self.num_project)],\n",
    "                                )\n",
    "        pd_print.loc[:, 'largest eigenvalue'] = max_eigen_list\n",
    "        pd_print.loc[:, 'CR'] = CR_list\n",
    "        pd_print.loc[:, 'Consistency check'] = pd_print.loc[:, 'CR'] < 0.1\n",
    "        print('Scheme layer')\n",
    "        print(pd_print)\n",
    "\n",
    "        # Criterion layer\n",
    "        obj = np.dot(criteria_eigen.reshape(1, -1), np.array(eigen_list))\n",
    "        print('\\nCriterion layer', obj)\n",
    "        print('The best scheme is the plan{}'.format(np.argmax(obj)))\n",
    "        return obj\n",
    "\n",
    "\n",
    "if __name__ == '__main__':\n",
    "    # Criterion Importance Matrix\n",
    "    criteria = np.array([[1, 5, 7, 9, 5],\n",
    "                         [1 / 5, 1, 3, 5, 1],\n",
    "                         [1 / 7, 1 / 3, 1, 5, 1 / 5],\n",
    "                         [1 / 9, 1 / 5, 1 / 5, 1, 1 / 7],\n",
    "                         [1 / 5, 1, 5, 7, 1]])\n",
    "\n",
    "    # For each criterion, the programs are ranked according to their merits\n",
    "    b1 = np.array([[1, 1.71, 3.48, 1.35], \n",
    "                   [1 /1.71, 1, 2.03, 0.786],\n",
    "                   [1 / 3.48, 1 / 2.03, 1, 0.387], \n",
    "                   [1 / 1.35, 1 / 0.786, 1 / 0.387, 1]])\n",
    "    b2 = np.array([[1, 2.84, 9, 9], \n",
    "                   [1 / 2.84, 1, 9, 9], \n",
    "                   [1 / 9, 1 / 9, 1, 1], \n",
    "                   [1 / 9, 1 / 9, 1, 1]])\n",
    "    b3 = np.array([[1, 9, 1, 0.851], \n",
    "                   [1 / 9, 1, 1 / 9, 1 / 9], \n",
    "                   [1, 9, 1, 0.851], \n",
    "                   [1 / 0.851, 9, 1 / 0.851, 1]])\n",
    "    b4 = np.array([[1, 9, 9, 9], \n",
    "                   [1 / 9, 1, 1, 1], \n",
    "                   [1 / 9, 1, 1, 1], \n",
    "                   [1 / 9, 1, 1, 1]])\n",
    "    b5 = np.array([[1, 2.20, 9, 9], \n",
    "                   [1 / 2.20, 1, 9, 9], \n",
    "                   [1 / 9, 1 / 9, 1, 1.91],\n",
    "                   [1 / 9, 1 / 9, 1 / 1.91, 1]])\n",
    "\n",
    "    b = [b1, b2, b3, b4, b5]\n",
    "    a = AHP(criteria, b).run()"
   ]
  }
 ],
 "metadata": {
  "kernelspec": {
   "display_name": "Python 3",
   "language": "python",
   "name": "python3"
  },
  "language_info": {
   "codemirror_mode": {
    "name": "ipython",
    "version": 3
   },
   "file_extension": ".py",
   "mimetype": "text/x-python",
   "name": "python",
   "nbconvert_exporter": "python",
   "pygments_lexer": "ipython3",
   "version": "3.8.8"
  },
  "toc": {
   "base_numbering": 1,
   "nav_menu": {},
   "number_sections": false,
   "sideBar": true,
   "skip_h1_title": false,
   "title_cell": "Table of Contents",
   "title_sidebar": "Contents",
   "toc_cell": false,
   "toc_position": {
    "height": "calc(100% - 180px)",
    "left": "10px",
    "top": "150px",
    "width": "175.059px"
   },
   "toc_section_display": true,
   "toc_window_display": true
  },
  "varInspector": {
   "cols": {
    "lenName": 16,
    "lenType": 16,
    "lenVar": 40
   },
   "kernels_config": {
    "python": {
     "delete_cmd_postfix": "",
     "delete_cmd_prefix": "del ",
     "library": "var_list.py",
     "varRefreshCmd": "print(var_dic_list())"
    },
    "r": {
     "delete_cmd_postfix": ") ",
     "delete_cmd_prefix": "rm(",
     "library": "var_list.r",
     "varRefreshCmd": "cat(var_dic_list()) "
    }
   },
   "types_to_exclude": [
    "module",
    "function",
    "builtin_function_or_method",
    "instance",
    "_Feature"
   ],
   "window_display": false
  }
 },
 "nbformat": 4,
 "nbformat_minor": 5
}
