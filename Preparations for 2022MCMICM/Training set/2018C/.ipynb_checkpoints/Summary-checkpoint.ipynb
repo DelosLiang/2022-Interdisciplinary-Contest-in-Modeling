{
 "cells": [
  {
   "cell_type": "markdown",
   "id": "3474a440",
   "metadata": {},
   "source": [
    "## Summary"
   ]
  },
  {
   "cell_type": "markdown",
   "id": "06da7e88",
   "metadata": {},
   "source": [
    "In the beginning, to get an overview of energy in four states, we selected five segments, namely electricity, transportation fuels, energy storage, clean energy, and renewable energy. We used a very diverse set of visualization techniques to summarize energy use in four states from 1960 to 2009.\n",
    "\n",
    "\n",
    "For the third question in the first part, we first did a simple data processing and got the proportion of clean energy and renewable energy in each state. Then we selected the five most representative factors in clean energy, and through the Projected Costs of Generating Electricity, we got the energy industry's rating of the importance of these five factors, and then we used the **AHP** to determine the five factors The weights of the factors, finally calculated by the matrix we find out the “best” profile for use of cleaner, renewable energy in 2009."
   ]
  }
 ],
 "metadata": {
  "kernelspec": {
   "display_name": "Python 3",
   "language": "python",
   "name": "python3"
  },
  "language_info": {
   "codemirror_mode": {
    "name": "ipython",
    "version": 3
   },
   "file_extension": ".py",
   "mimetype": "text/x-python",
   "name": "python",
   "nbconvert_exporter": "python",
   "pygments_lexer": "ipython3",
   "version": "3.8.8"
  },
  "toc": {
   "base_numbering": 1,
   "nav_menu": {},
   "number_sections": false,
   "sideBar": false,
   "skip_h1_title": false,
   "title_cell": "Table of Contents",
   "title_sidebar": "Contents",
   "toc_cell": false,
   "toc_position": {},
   "toc_section_display": false,
   "toc_window_display": true
  },
  "varInspector": {
   "cols": {
    "lenName": 16,
    "lenType": 16,
    "lenVar": 40
   },
   "kernels_config": {
    "python": {
     "delete_cmd_postfix": "",
     "delete_cmd_prefix": "del ",
     "library": "var_list.py",
     "varRefreshCmd": "print(var_dic_list())"
    },
    "r": {
     "delete_cmd_postfix": ") ",
     "delete_cmd_prefix": "rm(",
     "library": "var_list.r",
     "varRefreshCmd": "cat(var_dic_list()) "
    }
   },
   "types_to_exclude": [
    "module",
    "function",
    "builtin_function_or_method",
    "instance",
    "_Feature"
   ],
   "window_display": false
  }
 },
 "nbformat": 4,
 "nbformat_minor": 5
}
