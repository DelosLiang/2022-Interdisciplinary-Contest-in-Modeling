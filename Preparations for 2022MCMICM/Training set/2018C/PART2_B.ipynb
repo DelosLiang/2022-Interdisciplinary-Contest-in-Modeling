{
 "cells": [
  {
   "cell_type": "markdown",
   "id": "d6630645",
   "metadata": {},
   "source": [
    "## Action for the four states"
   ]
  },
  {
   "cell_type": "markdown",
   "id": "d56045de",
   "metadata": {},
   "source": [
    "Based on previous results we made forecasts for fuel use over the next few decades, which we presented in **Figure 1**."
   ]
  },
  {
   "cell_type": "markdown",
   "id": "71e44524",
   "metadata": {},
   "source": [
    "![](./images/9.svg)"
   ]
  },
  {
   "cell_type": "markdown",
   "id": "5f59f3d7",
   "metadata": {},
   "source": [
    "<center>Figure 1: Emission evolution due to the phase-out of coal and oil</center>"
   ]
  },
  {
   "cell_type": "markdown",
   "id": "a5b9ce77",
   "metadata": {},
   "source": [
    "In order to meet their energy compact goals, We give goals and our recommendations in four areas, we present them in **Table 1**."
   ]
  },
  {
   "cell_type": "markdown",
   "id": "042abcb4",
   "metadata": {},
   "source": [
    "![](./images/10.svg)"
   ]
  },
  {
   "cell_type": "markdown",
   "id": "ad944504",
   "metadata": {},
   "source": [
    "<center>Table 1: Overview of policies to support energy transition solutions</center>"
   ]
  }
 ],
 "metadata": {
  "kernelspec": {
   "display_name": "Python 3",
   "language": "python",
   "name": "python3"
  },
  "language_info": {
   "codemirror_mode": {
    "name": "ipython",
    "version": 3
   },
   "file_extension": ".py",
   "mimetype": "text/x-python",
   "name": "python",
   "nbconvert_exporter": "python",
   "pygments_lexer": "ipython3",
   "version": "3.8.8"
  },
  "toc": {
   "base_numbering": 1,
   "nav_menu": {},
   "number_sections": false,
   "sideBar": true,
   "skip_h1_title": false,
   "title_cell": "Table of Contents",
   "title_sidebar": "Contents",
   "toc_cell": false,
   "toc_position": {
    "height": "calc(100% - 180px)",
    "left": "10px",
    "top": "150px",
    "width": "165px"
   },
   "toc_section_display": true,
   "toc_window_display": true
  },
  "varInspector": {
   "cols": {
    "lenName": 16,
    "lenType": 16,
    "lenVar": 40
   },
   "kernels_config": {
    "python": {
     "delete_cmd_postfix": "",
     "delete_cmd_prefix": "del ",
     "library": "var_list.py",
     "varRefreshCmd": "print(var_dic_list())"
    },
    "r": {
     "delete_cmd_postfix": ") ",
     "delete_cmd_prefix": "rm(",
     "library": "var_list.r",
     "varRefreshCmd": "cat(var_dic_list()) "
    }
   },
   "types_to_exclude": [
    "module",
    "function",
    "builtin_function_or_method",
    "instance",
    "_Feature"
   ],
   "window_display": false
  }
 },
 "nbformat": 4,
 "nbformat_minor": 5
}
