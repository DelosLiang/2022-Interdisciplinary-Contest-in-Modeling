{
 "cells": [
  {
   "cell_type": "markdown",
   "id": "823cb34d",
   "metadata": {},
   "source": [
    "* Summary the state profiles as of 2009.\n",
    "\n",
    "\n",
    "Looking at the energy situation in 2009, we can see that clean energy accounts for the vast majority of energy use in California, while Texas and Arizona use roughly the same proportion of clean energy as traditional energy, and finally, New Mexico uses The proportion of clean energy accounts for only 20%. Regarding the use of clean energy, most of the four states still use non-renewable energy (represented by natural gas) as the main energy source, with Texas using the highest proportion of natural gas and California the lowest.\n",
    "\n",
    "\n",
    "* Goals for the energy compact to adopt.\n",
    "\n",
    "\n",
    "**By 2030, the global scale of renewable energy generation will reach 10,770 GW, almost four times the current capacity.** To decarbonize the power system and electrify end-uses by 2050, deployment will need to scale up rapidly over the next decade. A large number of cost-effective renewable energy sources are available worldwide as options that can be developed on a large scale. For many countries, this has helped translate technological and economic challenges into a range of investment, regulatory and social opportunities.\n",
    "\n",
    "\n",
    "**Infrastructure upgrades, modernizations and expansions are the top priorities for the next decade.** Upgrading old infrastructure or investing in expansion is an integral part of the energy transition and a driver of modern technology. This is especially important in the next decade as system flexibility and demand for modern grids grow rapidly as the share of renewable energy grows. Infrastructure development must be aligned with long-term plans and reflect broader strategies including regional market integration."
   ]
  }
 ],
 "metadata": {
  "kernelspec": {
   "display_name": "Python 3",
   "language": "python",
   "name": "python3"
  },
  "language_info": {
   "codemirror_mode": {
    "name": "ipython",
    "version": 3
   },
   "file_extension": ".py",
   "mimetype": "text/x-python",
   "name": "python",
   "nbconvert_exporter": "python",
   "pygments_lexer": "ipython3",
   "version": "3.8.8"
  },
  "toc": {
   "base_numbering": 1,
   "nav_menu": {},
   "number_sections": false,
   "sideBar": false,
   "skip_h1_title": false,
   "title_cell": "Table of Contents",
   "title_sidebar": "Contents",
   "toc_cell": false,
   "toc_position": {
    "height": "519.429px",
    "left": "41.1176px",
    "top": "148px",
    "width": "165px"
   },
   "toc_section_display": false,
   "toc_window_display": true
  },
  "varInspector": {
   "cols": {
    "lenName": 16,
    "lenType": 16,
    "lenVar": 40
   },
   "kernels_config": {
    "python": {
     "delete_cmd_postfix": "",
     "delete_cmd_prefix": "del ",
     "library": "var_list.py",
     "varRefreshCmd": "print(var_dic_list())"
    },
    "r": {
     "delete_cmd_postfix": ") ",
     "delete_cmd_prefix": "rm(",
     "library": "var_list.r",
     "varRefreshCmd": "cat(var_dic_list()) "
    }
   },
   "types_to_exclude": [
    "module",
    "function",
    "builtin_function_or_method",
    "instance",
    "_Feature"
   ],
   "window_display": false
  }
 },
 "nbformat": 4,
 "nbformat_minor": 5
}
