{
 "cells": [
  {
   "cell_type": "markdown",
   "id": "1e7ff347",
   "metadata": {},
   "source": [
    "## Problem 5: Specific Quality Descriptors Relevance to Rating Levels"
   ]
  },
  {
   "cell_type": "markdown",
   "id": "40aa2a12",
   "metadata": {},
   "source": [
    "In this section, we intended to weigh the correlation between two variables through the **Pearson correlation coefficient**, whose formula is defined as:\n",
    "\n",
    "$$R=\\sum_{}{}(\\frac{r_{i\\alpha}-\\bar{r_i}}{\\sigma _{r_i}})·(\\frac{Q_{\\alpha}-\\bar{Q_i}}{\\sigma _{Q_i}})$$\n",
    "\n",
    "To simplify our model and eliminate the complexity, we define the reviews' score which have been generated from **Natural Language Processing(NLP)** as the quantitative measurement of specific quality descriptors of text-based reviews. Furthermore, for better results of visualization, we generated every month's average ratings and reviews' score from original data set. Firstly we introduce **Heat map** into this section to shows magnitude and demonstrate the existence of correlation between the star ratings and reviews' score in **Figure 6**."
   ]
  },
  {
   "cell_type": "markdown",
   "id": "184b0d36",
   "metadata": {},
   "source": [
    "![](./image/13.jpg)"
   ]
  },
  {
   "cell_type": "markdown",
   "id": "86b52498",
   "metadata": {},
   "source": [
    "<center>(a) Pacifier correlation heat map</center>"
   ]
  },
  {
   "cell_type": "markdown",
   "id": "2f01e046",
   "metadata": {},
   "source": [
    "![](./image/14.jpg)"
   ]
  },
  {
   "cell_type": "markdown",
   "id": "d315354b",
   "metadata": {},
   "source": [
    "<center>(b) Microwave correlation heat map</center>"
   ]
  },
  {
   "cell_type": "markdown",
   "id": "8a4307fe",
   "metadata": {},
   "source": [
    "![](./image/15.jpg)"
   ]
  },
  {
   "cell_type": "markdown",
   "id": "5ba7ee1a",
   "metadata": {},
   "source": [
    "<center>(c) Hair-dryer correlation heat map</center>"
   ]
  },
  {
   "cell_type": "markdown",
   "id": "a2f4a2a2",
   "metadata": {},
   "source": [
    "<center><b>Figure 6</b>: Three products' correlation heat map</center>"
   ]
  },
  {
   "cell_type": "markdown",
   "id": "6533c8de",
   "metadata": {},
   "source": [
    "Then with the help of **Seaborn** sourcing from Matplotlib, we got the results of regression and the correlation between the star ratings and reviews' score in **Figure 7**."
   ]
  },
  {
   "cell_type": "markdown",
   "id": "c086f673",
   "metadata": {},
   "source": [
    "![](./image/10.jpg)"
   ]
  },
  {
   "cell_type": "markdown",
   "id": "52294c37",
   "metadata": {},
   "source": [
    "<center>(a) Pacifier correlation</center>"
   ]
  },
  {
   "cell_type": "markdown",
   "id": "5de0b75e",
   "metadata": {},
   "source": [
    "![](./image/11.jpg)"
   ]
  },
  {
   "cell_type": "markdown",
   "id": "aa171ad2",
   "metadata": {},
   "source": [
    "<center>(b) Microwave correlation</center>"
   ]
  },
  {
   "cell_type": "markdown",
   "id": "f0a5d3f3",
   "metadata": {},
   "source": [
    "![](./image/12.jpg)"
   ]
  },
  {
   "cell_type": "markdown",
   "id": "3957c035",
   "metadata": {},
   "source": [
    "<center>(c) Hair-dryer correlation</center>"
   ]
  },
  {
   "cell_type": "markdown",
   "id": "2d56843f",
   "metadata": {},
   "source": [
    "<b>Figure 7</b>: After the calculation, we could get the value of each product's Pearson correlation coefficient, successively 0.37, 0.58 and 0.71, showing that the latter two are classified into strong linear correlation, while the pacifier' either of factors are moderate relative, resulting from that the reviews of pacifier are highly concentrated on superior reputation, which led to negative impact on linear regression causing distortion."
   ]
  }
 ],
 "metadata": {
  "kernelspec": {
   "display_name": "Python 3",
   "language": "python",
   "name": "python3"
  },
  "language_info": {
   "codemirror_mode": {
    "name": "ipython",
    "version": 3
   },
   "file_extension": ".py",
   "mimetype": "text/x-python",
   "name": "python",
   "nbconvert_exporter": "python",
   "pygments_lexer": "ipython3",
   "version": "3.8.8"
  },
  "toc": {
   "base_numbering": 1,
   "nav_menu": {},
   "number_sections": false,
   "sideBar": false,
   "skip_h1_title": false,
   "title_cell": "Table of Contents",
   "title_sidebar": "Contents",
   "toc_cell": false,
   "toc_position": {
    "height": "99.9958px",
    "left": "10px",
    "top": "150px",
    "width": "165px"
   },
   "toc_section_display": true,
   "toc_window_display": true
  },
  "varInspector": {
   "cols": {
    "lenName": 16,
    "lenType": 16,
    "lenVar": 40
   },
   "kernels_config": {
    "python": {
     "delete_cmd_postfix": "",
     "delete_cmd_prefix": "del ",
     "library": "var_list.py",
     "varRefreshCmd": "print(var_dic_list())"
    },
    "r": {
     "delete_cmd_postfix": ") ",
     "delete_cmd_prefix": "rm(",
     "library": "var_list.r",
     "varRefreshCmd": "cat(var_dic_list()) "
    }
   },
   "types_to_exclude": [
    "module",
    "function",
    "builtin_function_or_method",
    "instance",
    "_Feature"
   ],
   "window_display": false
  }
 },
 "nbformat": 4,
 "nbformat_minor": 5
}
