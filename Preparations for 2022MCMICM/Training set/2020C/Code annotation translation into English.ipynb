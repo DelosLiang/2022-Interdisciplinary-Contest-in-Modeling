{
 "cells": [
  {
   "cell_type": "markdown",
   "id": "c5684922",
   "metadata": {},
   "source": [
    "## Appendix Source Code for FAHP"
   ]
  },
  {
   "cell_type": "code",
   "execution_count": null,
   "id": "321dee30",
   "metadata": {},
   "outputs": [],
   "source": [
    "import numpy as np\n",
    "import pandas as pd\n",
    "\n",
    "A1 = [0, 0, 0, 0, 0, 0]  # 记录模糊互补矩阵每行和/Record the sum of each row of the fuzzy complementary matrix\n",
    "R1 = [0, 0, 0, 0, 0, 0]  # 记录一致性矩阵每行积/Record the product of each row of the consistency matrix\n",
    "W = [0, 0, 0, 0, 0, 0]\n",
    "R = np.zeros((6, 6), dtype=np.float)\n",
    "SUM = 0\n",
    "global N\n",
    "N = 6\n",
    "\n",
    "# 模糊互补矩阵/Fuzzy Complementary Matrix\n",
    "A = np.array([\n",
    "    [0.50, 0.75, 0.80, 0.60, 0.50, 0.55],\n",
    "    [0.25, 0.50, 0.65, 0.50, 0.30, 0.40],\n",
    "    [0.20, 0.35, 0.50, 0.40, 0.30, 0.40],\n",
    "    [0.40, 0.50, 0.60, 0.50, 0.30, 0.40],\n",
    "    [0.50, 0.70, 0.70, 0.70, 0.50, 0.75],\n",
    "    [0.45, 0.60, 0.60, 0.60, 0.25, 0.50]\n",
    "])\n",
    "\n",
    "for i in range(N):\n",
    "    A1[i] = 0  # 记录每行的和/Record the sum of each row\n",
    "    for j in range(N):\n",
    "        A1[i] += A[i][j]\n",
    "print(A1)\n",
    "\n",
    "# 转换成模糊一致性矩阵/Convert to Fuzzy Consistency Matrix\n",
    "for i in range(N):\n",
    "    for j in range(N):\n",
    "        R[i][j] = (A1[i] - A1[j]) / (2 * N) + 0.5\n",
    "        \n",
    "# 幂积法求单层权重/Power product method to find single layer weights\n",
    "for i in range(N):\n",
    "    R1[i] = 1\n",
    "    for j in range(N):\n",
    "        R1[i] *= R[i][j]\n",
    "    W[i] = pow(R1[i], 0.2)\n",
    "    SUM += W[i]\n",
    "    \n",
    "for i in range(N):\n",
    "    W[i] = W[i] / SUM\n",
    "print(W)"
   ]
  },
  {
   "cell_type": "markdown",
   "id": "69a3b408",
   "metadata": {},
   "source": [
    "## Appendix Source Code for TOPSIS"
   ]
  },
  {
   "cell_type": "code",
   "execution_count": null,
   "id": "635a4908",
   "metadata": {},
   "outputs": [],
   "source": [
    "def topsis(data, weight=None):\n",
    "    data = data / np.sqrt((data ** 2).sum())  # normalized\n",
    "\n",
    "    Z = pd.DataFrame([data.min(), data.max()], index=['负理想解/negative ideal solution', '正理想解/positive ideal solution'])  # best and worst solution\n",
    "\n",
    "    weight = entropy_weight(data) if weight is None else np.array(weight)  # distance\n",
    "    Result = data.copy()\n",
    "    Result['正理想解'] = np.sqrt(((data - Z.loc['正理想解']) ** 2 * weight).sum(axis=1))\n",
    "    Result['负理想解'] = np.sqrt(((data - Z.loc['负理想解']) ** 2 * weight).sum(axis=1))\n",
    "\n",
    "    # composite score index\n",
    "    Result['综合得分指数/composite score index'] = Result['负理想解'] / (Result['负理想解'] + Result['正理想解'])\n",
    "    Result['sequence'] = Result.rank(ascending=False)['综合得分指数']\n",
    "\n",
    "    return Result, Z, weight"
   ]
  }
 ],
 "metadata": {
  "kernelspec": {
   "display_name": "Python 3",
   "language": "python",
   "name": "python3"
  },
  "language_info": {
   "codemirror_mode": {
    "name": "ipython",
    "version": 3
   },
   "file_extension": ".py",
   "mimetype": "text/x-python",
   "name": "python",
   "nbconvert_exporter": "python",
   "pygments_lexer": "ipython3",
   "version": "3.8.8"
  },
  "toc": {
   "base_numbering": 1,
   "nav_menu": {},
   "number_sections": false,
   "sideBar": false,
   "skip_h1_title": false,
   "title_cell": "Table of Contents",
   "title_sidebar": "Contents",
   "toc_cell": false,
   "toc_position": {},
   "toc_section_display": false,
   "toc_window_display": true
  },
  "varInspector": {
   "cols": {
    "lenName": 16,
    "lenType": 16,
    "lenVar": 40
   },
   "kernels_config": {
    "python": {
     "delete_cmd_postfix": "",
     "delete_cmd_prefix": "del ",
     "library": "var_list.py",
     "varRefreshCmd": "print(var_dic_list())"
    },
    "r": {
     "delete_cmd_postfix": ") ",
     "delete_cmd_prefix": "rm(",
     "library": "var_list.r",
     "varRefreshCmd": "cat(var_dic_list()) "
    }
   },
   "types_to_exclude": [
    "module",
    "function",
    "builtin_function_or_method",
    "instance",
    "_Feature"
   ],
   "window_display": false
  }
 },
 "nbformat": 4,
 "nbformat_minor": 5
}
