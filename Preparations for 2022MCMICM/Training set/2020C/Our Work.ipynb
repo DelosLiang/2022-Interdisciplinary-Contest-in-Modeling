{
 "cells": [
  {
   "cell_type": "markdown",
   "id": "86e30fb6",
   "metadata": {},
   "source": [
    "## Our Work"
   ]
  },
  {
   "cell_type": "markdown",
   "id": "dfbb2c1d",
   "metadata": {},
   "source": [
    "First of all, we clean the raw data set and remove irrelative reviews. And then one of our group members incorporate his expertise natural-language processing knowledge for the distributing all the selected emotion words into the range [-1,1].\n",
    "\n",
    "In problem 1, we define the reputation of product $Q$ and the confidence of review $W$ which derive the value of $Q$, then we divede the calculation of $W$ into three subproblems: **Reviewer Confidence**, **Content Confidence** and **Timeliness Measurement**. First we apply **Pearson correlation coefficient** for reviewer confidence's evaluation that can extract the most informative reviews on the basis of ratings and text content. Then we employ **Fuzzy Analytic Hierarchy Process(FAHP)** to determine the weights of mutiple factors, and then we establish the model **Technique for Order of Preference by Similarity to Ideal Solution(TOPSIS)** to determine the weights of each attribute and eventually educe the value of the confidence of review content. Lastly, we utilize a simple **exponential function** to measure the timeliness of each review.\n",
    "\n",
    "As for problem 3, we utilize **Simple Exponential Smoothing** to predict the tendency of three products' future reputation on account of the results of problem 1. Then we draw the line chart to reveal the potential of three products.\n",
    "\n",
    "In terms of problem 5, the heat map and the regression line mixed with splattering can all reflect the specific quality descriptors of text-based reviews and rating levels. In this procedure, we design the simplification that we regard every month's average ratings rather than all ratings andgenerate reviews' score from original data set to reflex the specific quality descriptors of text-based reviews."
   ]
  },
  {
   "cell_type": "markdown",
   "id": "c9152ea5",
   "metadata": {},
   "source": [
    "![](./image/workflow.svg)"
   ]
  },
  {
   "cell_type": "markdown",
   "id": "a50fa26c",
   "metadata": {},
   "source": [
    "<center><b>Figure 1</b>: The Workflow.</center>"
   ]
  }
 ],
 "metadata": {
  "kernelspec": {
   "display_name": "Python 3",
   "language": "python",
   "name": "python3"
  },
  "language_info": {
   "codemirror_mode": {
    "name": "ipython",
    "version": 3
   },
   "file_extension": ".py",
   "mimetype": "text/x-python",
   "name": "python",
   "nbconvert_exporter": "python",
   "pygments_lexer": "ipython3",
   "version": "3.8.8"
  },
  "toc": {
   "base_numbering": 1,
   "nav_menu": {},
   "number_sections": false,
   "sideBar": false,
   "skip_h1_title": false,
   "title_cell": "Table of Contents",
   "title_sidebar": "Contents",
   "toc_cell": false,
   "toc_position": {},
   "toc_section_display": false,
   "toc_window_display": true
  },
  "varInspector": {
   "cols": {
    "lenName": 16,
    "lenType": 16,
    "lenVar": 40
   },
   "kernels_config": {
    "python": {
     "delete_cmd_postfix": "",
     "delete_cmd_prefix": "del ",
     "library": "var_list.py",
     "varRefreshCmd": "print(var_dic_list())"
    },
    "r": {
     "delete_cmd_postfix": ") ",
     "delete_cmd_prefix": "rm(",
     "library": "var_list.r",
     "varRefreshCmd": "cat(var_dic_list()) "
    }
   },
   "types_to_exclude": [
    "module",
    "function",
    "builtin_function_or_method",
    "instance",
    "_Feature"
   ],
   "window_display": false
  }
 },
 "nbformat": 4,
 "nbformat_minor": 5
}
