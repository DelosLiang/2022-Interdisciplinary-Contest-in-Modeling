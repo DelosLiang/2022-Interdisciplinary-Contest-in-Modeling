{
 "cells": [
  {
   "cell_type": "markdown",
   "id": "5d6db6e2",
   "metadata": {},
   "source": [
    "## Strengths and Weaknesses"
   ]
  },
  {
   "cell_type": "markdown",
   "id": "9e21adc1",
   "metadata": {},
   "source": [
    "### Strengths"
   ]
  },
  {
   "cell_type": "markdown",
   "id": "e490c666",
   "metadata": {},
   "source": [
    "1. **Novelty.** To the best of our knowledge, we are the first to propose a Iteration-based CommodityReputationRedistribution Model for text-based sentiment evaluations on an online merketplace.\n",
    "\n",
    "\n",
    "2. **Generazation.** Our proposed framework can freely be implemented to any data set e.g., reviews and star-ratings of any products from any online platforms.\n",
    "\n",
    "\n",
    "3. **Robustness.** Our model shows great robustness to most of the parameters."
   ]
  },
  {
   "cell_type": "markdown",
   "id": "2f685b82",
   "metadata": {},
   "source": [
    "### Weaknesses"
   ]
  },
  {
   "cell_type": "markdown",
   "id": "1c26c7df",
   "metadata": {},
   "source": [
    "1. **Missing other potentially relevant factors.** We do not take marketing stategies of Amazon-like sales promotion into consideration when analyzing specific ratings and descriptors.\n",
    "\n",
    "\n",
    "2. **Missing data set partitions**. If we divide the data set into training set, validation set and test set, we can optimize the hyperparameters of the model and greatly reduce the generalization error of the model with validation set, as well as evaluate and improve the accuracy of the model with test set."
   ]
  }
 ],
 "metadata": {
  "kernelspec": {
   "display_name": "Python 3",
   "language": "python",
   "name": "python3"
  },
  "language_info": {
   "codemirror_mode": {
    "name": "ipython",
    "version": 3
   },
   "file_extension": ".py",
   "mimetype": "text/x-python",
   "name": "python",
   "nbconvert_exporter": "python",
   "pygments_lexer": "ipython3",
   "version": "3.8.8"
  },
  "toc": {
   "base_numbering": 1,
   "nav_menu": {},
   "number_sections": false,
   "sideBar": false,
   "skip_h1_title": false,
   "title_cell": "Table of Contents",
   "title_sidebar": "Contents",
   "toc_cell": false,
   "toc_position": {},
   "toc_section_display": false,
   "toc_window_display": true
  },
  "varInspector": {
   "cols": {
    "lenName": 16,
    "lenType": 16,
    "lenVar": 40
   },
   "kernels_config": {
    "python": {
     "delete_cmd_postfix": "",
     "delete_cmd_prefix": "del ",
     "library": "var_list.py",
     "varRefreshCmd": "print(var_dic_list())"
    },
    "r": {
     "delete_cmd_postfix": ") ",
     "delete_cmd_prefix": "rm(",
     "library": "var_list.r",
     "varRefreshCmd": "cat(var_dic_list()) "
    }
   },
   "types_to_exclude": [
    "module",
    "function",
    "builtin_function_or_method",
    "instance",
    "_Feature"
   ],
   "window_display": false
  }
 },
 "nbformat": 4,
 "nbformat_minor": 5
}
