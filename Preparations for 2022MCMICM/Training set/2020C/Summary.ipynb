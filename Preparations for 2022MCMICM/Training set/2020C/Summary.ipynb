{
 "cells": [
  {
   "cell_type": "markdown",
   "id": "e6460848",
   "metadata": {},
   "source": [
    "<center><b>Summary</b></center>"
   ]
  },
  {
   "cell_type": "markdown",
   "id": "86d971e1",
   "metadata": {},
   "source": [
    "第一段简单复述一下问题的背景。\n",
    "\n",
    "\n",
    "For problem 1, based on reviews and ratings, we propose the Iteration-based Commodity Reputation Redistribution Model. We split review confidence into reviewer confidence and review content confidence.we define the reputation of product 𝑄 and the confidence of review 𝑊 which derive the value of 𝑄, then we divede the calculation of 𝑊 into three subproblems: Reviewer Confidence, Content Confidence and Timeliness Measurement. First we apply Pearson correlation coefficient for reviewer confidence's evaluation that can extract the most informative reviews on the basis of ratings and text content. Then we employ Fuzzy Analytic Hierarchy Process(FAHP) to determine the weights of mutiple factors, and then we establish the model Technique for Order of Preference by Similarity to Ideal Solution(TOPSIS) to determine the weights of each attribute and eventually educe the value of the confidence of review content. Then we utilize a simple exponential function to measure the timeliness of each review, in this way we obtain the final composite scores of three products, which are contributed to help Sunshine Company to track most informative reviews and ameliorate marketting.\n",
    "\n",
    "With regard to Promblem 3, we select a time-series approach to make predictions on the composite scores. Since we utilize Simple Exponential Smoothing to predict the tendency of three products' future reputation on account of the results of problem 1. Then we draw the line chart to reveal the potential of three products. The final results show that the reputation for all three commodities will continue to rise in the future which lead to potential marketting success.\n",
    "\n",
    "Lastly, we analyze specific words and descriptors to find their correlation to the ratings, showing that the Microwave and Hair-dryer's relationship are classified into strong linear correlation, while the pacifier's either of factors are moderate relative.\n",
    "\n",
    "Our framework shows a strong accuracy, robustness. It can be easily implemented to other data with our source codes.\n",
    "\n",
    "<b>Keywords</b>: Reputation Redistribution; correlation coefficient; review confidence."
   ]
  }
 ],
 "metadata": {
  "kernelspec": {
   "display_name": "Python 3",
   "language": "python",
   "name": "python3"
  },
  "language_info": {
   "codemirror_mode": {
    "name": "ipython",
    "version": 3
   },
   "file_extension": ".py",
   "mimetype": "text/x-python",
   "name": "python",
   "nbconvert_exporter": "python",
   "pygments_lexer": "ipython3",
   "version": "3.8.8"
  },
  "toc": {
   "base_numbering": 1,
   "nav_menu": {},
   "number_sections": false,
   "sideBar": false,
   "skip_h1_title": false,
   "title_cell": "Table of Contents",
   "title_sidebar": "Contents",
   "toc_cell": false,
   "toc_position": {
    "height": "99.9958px",
    "left": "10px",
    "top": "150px",
    "width": "165px"
   },
   "toc_section_display": true,
   "toc_window_display": true
  },
  "varInspector": {
   "cols": {
    "lenName": 16,
    "lenType": 16,
    "lenVar": 40
   },
   "kernels_config": {
    "python": {
     "delete_cmd_postfix": "",
     "delete_cmd_prefix": "del ",
     "library": "var_list.py",
     "varRefreshCmd": "print(var_dic_list())"
    },
    "r": {
     "delete_cmd_postfix": ") ",
     "delete_cmd_prefix": "rm(",
     "library": "var_list.r",
     "varRefreshCmd": "cat(var_dic_list()) "
    }
   },
   "types_to_exclude": [
    "module",
    "function",
    "builtin_function_or_method",
    "instance",
    "_Feature"
   ],
   "window_display": false
  }
 },
 "nbformat": 4,
 "nbformat_minor": 5
}
