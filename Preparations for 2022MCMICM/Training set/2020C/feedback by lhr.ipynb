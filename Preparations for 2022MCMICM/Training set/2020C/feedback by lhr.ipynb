{
 "cells": [
  {
   "cell_type": "markdown",
   "id": "a5a687f6",
   "metadata": {},
   "source": [
    "## Summary"
   ]
  },
  {
   "cell_type": "markdown",
   "id": "98473374",
   "metadata": {},
   "source": [
    "* 使用到的方法或者模型全部加粗，而不是只有缩写加粗，而且在每个section第一次出现的时候都要加粗，第二次出现的时候不加粗而且尽量使用缩写；\n",
    "\n",
    "\n",
    "* 第二段最后一句，应为which help；\n",
    "\n",
    "\n",
    "* 最后一段a lot of 可以删除；\n",
    "\n",
    "\n",
    "* 残缺的部分记得及时找我或者王同学要。"
   ]
  },
  {
   "cell_type": "markdown",
   "id": "23094a12",
   "metadata": {},
   "source": [
    "## Introduction"
   ]
  },
  {
   "cell_type": "markdown",
   "id": "c2e6a6f7",
   "metadata": {},
   "source": [
    "### Problem Background"
   ]
  },
  {
   "cell_type": "markdown",
   "id": "64707d1e",
   "metadata": {},
   "source": [
    "* 第一段第一句refer的时态有问题，published改为are published?\n",
    "\n",
    "\n",
    "* 第二段第二句stars应该为star ratings；\n",
    "\n",
    "\n",
    "* 不太理解第二段最后一句commentators and commentators 是什么意思。"
   ]
  },
  {
   "cell_type": "markdown",
   "id": "f910d4b2",
   "metadata": {},
   "source": [
    "### Our Work"
   ]
  },
  {
   "cell_type": "markdown",
   "id": "081ec2ff",
   "metadata": {},
   "source": [
    "* 第三段第二句change trend 是否改为 trend;\n",
    "\n",
    "\n",
    "* 第三段最后一句 is stronger than that of microwave oven and stronger than that of pacifier是否改为is stronger than that of microwave oven and pacifier;\n",
    "\n",
    "\n",
    "* 流程图上面的Type *Markdown* and LaTeX: $\\alpha ^2$ 和下面的Text is not SVG - cannot display 删一下"
   ]
  },
  {
   "cell_type": "markdown",
   "id": "efe19bc7",
   "metadata": {},
   "source": [
    "## Reasonable Assumption"
   ]
  },
  {
   "cell_type": "markdown",
   "id": "61a31ea6",
   "metadata": {},
   "source": [
    "* data cleansing and data mining 单独划分到一个Section **Data Process and Insight**;\n",
    "\n",
    "\n",
    "* Tabel 1 和 Table 3的图表用以下的形式：\n",
    "\n",
    "![](./image/16.png)\n",
    "\n",
    "\n",
    "* 2.2 的第一段的over time删除；\n",
    "\n",
    "\n",
    "* 所有的Figure and Table 记得加粗；\n",
    "\n",
    "\n",
    "* 第二段第一句Figure 2,3,4改为Figure 3；\n",
    "\n",
    "\n",
    "* 第二段最后一句话改为The bigger the size of word , the higher the word frequency.\n",
    "\n",
    "\n",
    "* 像Figure 4这种把pdf放缩到100%也看不清文字的情况建议把两个图放一行，然后把另一个图放在下一行会清晰一些。"
   ]
  },
  {
   "cell_type": "markdown",
   "id": "09823158",
   "metadata": {},
   "source": [
    "## Problem 1"
   ]
  },
  {
   "cell_type": "markdown",
   "id": "fa3d4b54",
   "metadata": {},
   "source": [
    "* 3.1的最后一句reduced改为deprioritized;\n",
    "\n",
    "\n",
    "* 3.2.1的第一段第三句后半段改为decisions enven if their **Pearson correlation coefficient**;\n",
    "\n",
    "\n",
    "* 3.2.1第三段第二句，we are required to 改为 we are needed to;\n",
    "\n",
    "\n",
    "* 公式（5）下面的注释$\\theta $后面加一个is；\n",
    "\n",
    "\n",
    "* 矩阵（6）上方有个小bug：determination应为$C=(c_{ij})_{n_\\times m}$；\n",
    "\n",
    "\n",
    "* 矩阵（6）下方有多处bug，上标或者下标不带大括号的话就只会执行第一个letter，n和m之间少了个$\\times$;\n",
    "\n",
    "\n",
    "* 公式（7）下面一段倒数第二句, specially within改为, e.g.,;\n",
    "\n",
    "\n",
    "* 公式(10)上面的i.e.前面缺失一个逗号"
   ]
  },
  {
   "cell_type": "markdown",
   "id": "3e9c686d",
   "metadata": {},
   "source": [
    "## Problem 3"
   ]
  },
  {
   "cell_type": "markdown",
   "id": "5c28b716",
   "metadata": {},
   "source": [
    "* 第一段第一句always applied for 之前缺少一个is."
   ]
  },
  {
   "cell_type": "markdown",
   "id": "c4dda2e2",
   "metadata": {},
   "source": [
    "## Problem 5"
   ]
  },
  {
   "cell_type": "markdown",
   "id": "c9380355",
   "metadata": {},
   "source": [
    "* 文章的语态除非有时间上的先后顺序一般用一般现在时，第一段第一句intended to 前面加一个are."
   ]
  }
 ],
 "metadata": {
  "kernelspec": {
   "display_name": "Python 3",
   "language": "python",
   "name": "python3"
  },
  "language_info": {
   "codemirror_mode": {
    "name": "ipython",
    "version": 3
   },
   "file_extension": ".py",
   "mimetype": "text/x-python",
   "name": "python",
   "nbconvert_exporter": "python",
   "pygments_lexer": "ipython3",
   "version": "3.8.8"
  },
  "toc": {
   "base_numbering": 1,
   "nav_menu": {},
   "number_sections": false,
   "sideBar": false,
   "skip_h1_title": false,
   "title_cell": "Table of Contents",
   "title_sidebar": "Contents",
   "toc_cell": false,
   "toc_position": {
    "height": "99.9958px",
    "left": "10px",
    "top": "150px",
    "width": "165px"
   },
   "toc_section_display": true,
   "toc_window_display": true
  },
  "varInspector": {
   "cols": {
    "lenName": 16,
    "lenType": 16,
    "lenVar": 40
   },
   "kernels_config": {
    "python": {
     "delete_cmd_postfix": "",
     "delete_cmd_prefix": "del ",
     "library": "var_list.py",
     "varRefreshCmd": "print(var_dic_list())"
    },
    "r": {
     "delete_cmd_postfix": ") ",
     "delete_cmd_prefix": "rm(",
     "library": "var_list.r",
     "varRefreshCmd": "cat(var_dic_list()) "
    }
   },
   "types_to_exclude": [
    "module",
    "function",
    "builtin_function_or_method",
    "instance",
    "_Feature"
   ],
   "window_display": false
  }
 },
 "nbformat": 4,
 "nbformat_minor": 5
}
