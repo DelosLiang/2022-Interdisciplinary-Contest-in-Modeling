{
 "cells": [
  {
   "cell_type": "markdown",
   "id": "c0068cb7",
   "metadata": {},
   "source": [
    "## Assumption"
   ]
  },
  {
   "cell_type": "markdown",
   "id": "3af5e6d4",
   "metadata": {},
   "source": [
    "To simplify our model and eliminate the complexity, we make the following main assumptions in the literature. All assumptions will be re-emphasized once they are used in the construction of our model.\n",
    "\n"
   ]
  },
  {
   "cell_type": "markdown",
   "id": "0fc7c83d",
   "metadata": {},
   "source": [
    "## Abbreviations and Symbols"
   ]
  },
  {
   "cell_type": "markdown",
   "id": "a70e9ef5",
   "metadata": {},
   "source": [
    "Before we begin analyzing the problems, it is necessary to clarify the abbreviations and\n",
    "symbols that we will be using in our discussion. These are shown below in **Table 1**:"
   ]
  },
  {
   "cell_type": "markdown",
   "id": "36cb8953",
   "metadata": {},
   "source": [
    "<center>Table 1: Abbreviations and Symbols</center>"
   ]
  },
  {
   "cell_type": "markdown",
   "id": "388ec28e",
   "metadata": {},
   "source": [
    "|Abbreviations/Symbols|Description|\n",
    "|:---:|:---:|\n",
    "|$p$|the order of the AR model|\n",
    "|$d$|the differential order|\n",
    "|$q$|the order of the MA model|\n",
    "|$Y_t$|differential sequences|\n",
    "|$\\epsilon_t$|the noise sequence|\n",
    "|$\\phi$|the fitting parameter of AR model|\n",
    "|$\\theta$|the fit parameters for MA model|\n",
    "|$A_1$|Social developmen|\n",
    "|$A_2$|Economic development|\n",
    "|$A_3$|Mineral resouces|\n",
    "|$A_4$|Environmental conditions|\n",
    "|$A_5$|Science and technology|\n",
    "|$A_6$|Trade situation|\n",
    "|$A$|The judging matrix|\n",
    "|$w_i/w_j$|How important factor i is to factor j|\n",
    "|$\\lambda_{max}$|Largest characteristic root|\n",
    "|$n$|Order of the matrix|\n",
    "|$CR_{j}$|Metrics for Consistency Checks|"
   ]
  },
  {
   "cell_type": "markdown",
   "id": "b9d67b3a",
   "metadata": {},
   "source": [
    "## Definition of Global Equity"
   ]
  },
  {
   "cell_type": "markdown",
   "id": "e6ae14ff",
   "metadata": {},
   "source": [
    "### Method Overview"
   ]
  },
  {
   "cell_type": "markdown",
   "id": "86753b9c",
   "metadata": {},
   "source": [
    "![](./images/11.svg)"
   ]
  },
  {
   "cell_type": "markdown",
   "id": "deb639b9",
   "metadata": {},
   "source": [
    "<center>Figure 0: The work flow of global equity's definition</center>"
   ]
  },
  {
   "cell_type": "markdown",
   "id": "85cede4e",
   "metadata": {},
   "source": [
    "First we sifted the data we needed from the publicly available data on the World Bank website. After the necessary data processing, we used ARIMA to forecast the data from 2022 to 2050. We then selected the six most representative countries using the entropy weight method. Finally, we propose a model through AHP to generate the definition of global equity. The workflow is shown in **Figure 0**."
   ]
  },
  {
   "cell_type": "markdown",
   "id": "54e01e8e",
   "metadata": {},
   "source": [
    "### Establishment of the Index System"
   ]
  },
  {
   "cell_type": "markdown",
   "id": "6b3652fe",
   "metadata": {},
   "source": [
    "![](./images/1.svg)"
   ]
  },
  {
   "cell_type": "markdown",
   "id": "e0b35979",
   "metadata": {},
   "source": [
    "<center>Figure1: Index system of global equity</center>"
   ]
  },
  {
   "cell_type": "markdown",
   "id": "5208725e",
   "metadata": {},
   "source": [
    "First, in order to give the definition of global equity, we constructed the indicator system as shown in **figure 1**. We selected seven major categories of indicators, namely, Social development, Economic development, Mineral resouces, Environmental conditions, Science and technology and Trade situation. At the social level, we selected population as our measure, and at the economic level, We chose GDP as the standard. Considering that the current power generation is basically fueled by fossil energy, we choose the electricity consumption of each region as the standard. We all know that the mining of minerals will bring serious environmental pollution and emit a lot of harmful gases [1], so we choose carbon monoxide and methane emissions to measure the environmental status of a region. In principle, the resources in space do not belong to any country, but in the process of space mining in the future, human beings will definitely encounter the problem of distribution of the benefits brought by space mining. Usually, a country contributes more to space mining. technology, they deserve more in return. Therefore, technology is a factor that cannot be ignored. We selected three factors: Number of R & D researchers, High tech export and Sci tech journal articles to measure a country's technological strength. Finally, a country's energy import and export situation should also be taken into account. The higher a country's dependence on energy imports, the more the country should be favored by the policy of the space energy program. In particular, all our raw data are downloaded from the website *https://data.worldbank.org.cn/*."
   ]
  },
  {
   "cell_type": "markdown",
   "id": "749e9b35",
   "metadata": {},
   "source": [
    "### Data Process"
   ]
  },
  {
   "cell_type": "markdown",
   "id": "52e0ede7",
   "metadata": {},
   "source": [
    "#### Prediction via ARIMA Model"
   ]
  },
  {
   "cell_type": "markdown",
   "id": "d600d90d",
   "metadata": {},
   "source": [
    "First of all it is obvious that we cannot mine in space today, but we assume that the mining industry on the Moon will be fully exploited by 2050. mining on the Moon will be fully exploited by 2050, so in the following we will use a **Time Series Model** to make reasonable predictions for our selected variables and then proceed to the next step of the analysis. So we will use a time series model to make reasonable predictions for our selected variables and then proceed to the next step of the analysis.\n",
    "\n",
    "\n",
    "**ARIMA Model**, that is, differential autoregressive moving average model, is one of the methods of time-domain analysis of time series. Time-domain analysis of time series reveals the development law of time series from the perspective of sequence autocorrelation, mainly including AR model, MA model, ARIMA model, autoregressive conditional heteroscedasticity model and its derivative models. ARIMA model is a method developed on the basis of AR model and MA model.\n",
    "\n",
    "\n",
    "The model can stabilize non-stationary time series by difference method, which can overcome the disadvantage that AR model and MA model can only deal with stationary time series. At the same time, compared with arch model and its derivative model, this model has the characteristics of simple structure and less input variables, It is one of the most widely used methods for univariate time series data prediction, which is convenient for business promotion. ARIMA model is recorded as $ARIMA (p, d, q)$, where $p$ is the order of AR model, $q$ is the order of MA model, and $d$ is the difference order. The general expression of the model is as follows:\n",
    "\n",
    "\n",
    "$$Y_t = c + \\phi_1y_{t-1} + ... + \\phi_py_{t-p} + \\theta_1\\epsilon_{t-1} + \\theta_q + ... + \\epsilon_t$$\n",
    "\n",
    "\n",
    "Where $Y_t$ are differential sequences, $\\epsilon_t$ is the noise sequence, $\\phi$ is the fitting parameter of AR model, $\\theta$ is the fit parameters for MA model.\n",
    "\n",
    "\n",
    "Generally speaking, the establishment of ARIMA model has three stages: model identification and order determination, parameter estimation and model test. Model identification and order determination mainly determine the model parameters $p$, $q$ and $d$ according to the truncation and tailing properties of autocorrelation diagram\n",
    "(ACF diagram) and partial autocorrelation diagram (PACF diagram). Parameter estimation mainly selects the optimal prediction model according to Akaike information criterion (AIC criterion) and Bayesian information criterion (BIC\n",
    "criterion). The model test mainly includes the significance test of parameter estimation and whether the residual is a random independent white noise sequence. We present the autocorrelation diagram (ACF diagram) and the partial autocorrelation diagram (PACF diagram) in **Figure 2**."
   ]
  },
  {
   "cell_type": "markdown",
   "id": "a89a02f5",
   "metadata": {},
   "source": [
    "![](./images/2.svg)"
   ]
  },
  {
   "cell_type": "markdown",
   "id": "ceef198a",
   "metadata": {},
   "source": [
    "<center>(a) ACF diagram</center>"
   ]
  },
  {
   "cell_type": "markdown",
   "id": "d987ec9f",
   "metadata": {},
   "source": [
    "![](./images/3.svg)"
   ]
  },
  {
   "cell_type": "markdown",
   "id": "e7007e2b",
   "metadata": {},
   "source": [
    "<center>(b) PACF diagram</center>"
   ]
  },
  {
   "cell_type": "markdown",
   "id": "e71bf908",
   "metadata": {},
   "source": [
    "<center>Figure 2: Autocorrelation and partial autocorrelation diagram</center>"
   ]
  },
  {
   "cell_type": "markdown",
   "id": "f1ee4723",
   "metadata": {},
   "source": [
    "p.s. 这两个图放一行一左一右"
   ]
  },
  {
   "cell_type": "markdown",
   "id": "f62dde81",
   "metadata": {},
   "source": [
    "As above, we only show the autocorrelation diagram and partial autocorrelation diagram of various data in the United States. We can see that most variables are unstable, so we need to make one or two differences. Then we carry out Arima modeling and prediction for each index of each country, and use the obtained results combined with entropy weight method and analytic hierarchy process to obtain the mining share of each country. We put the predicted results in **Figure 3** below."
   ]
  },
  {
   "cell_type": "markdown",
   "id": "336dd434",
   "metadata": {},
   "source": [
    "![](./images/4.svg)"
   ]
  },
  {
   "cell_type": "markdown",
   "id": "934069ff",
   "metadata": {},
   "source": [
    "<center>Figure 3: Predictions for indicators up to 2050</center>"
   ]
  },
  {
   "cell_type": "markdown",
   "id": "ec309854",
   "metadata": {},
   "source": [
    "As shown in the figure above, ARIMA (p, d, q) is used to predict the results of various indicators in the United States."
   ]
  },
  {
   "cell_type": "markdown",
   "id": "06dba1a0",
   "metadata": {},
   "source": [
    "#### Screening Representative Information by Entropy Weight Method"
   ]
  },
  {
   "cell_type": "markdown",
   "id": "c653e689",
   "metadata": {},
   "source": [
    "First of all, we first defined the previously selected indicators Social development, Economic development, Mineral resouces, Environmental conditions, Science and technology and Trade situation as $A_1$, $A_2$, $A_3$, $A_4$, $A_5$ and $A_6$ respectively. A3 and A4, which contain multiple factors, are normalized by their respective components and weighted by experts.\n",
    "\n",
    "\n",
    "\n",
    "Because we only need one criterion to ensure the global equity of the income distribution obtained by asteroid mining, we only need to analyze a small sample, so that the obtained results will have better interpretability. In addition, our model has good robustness and generalization ability, but can have more specific results in the case of small samples. In this way, we use the **Entropy Weight Method** to screen the most representative countries to validate our model.\n",
    "\n",
    "\n",
    "In the entropy weight method, information entropy is the most commonly used indicator to measure the purity of a sample set. Assuming that the proportion of the $k$-th sample in the current sample set $D$ is $p_k(k = 1,2,...,|y|)$, the information entropy of $D$ is defined as:\n",
    "\n",
    "$$Ent(D) = -\\sum_{k=1}^{|y|}p_klog_2p_k.$$\n",
    "\n",
    "The smaller the value of $Ent(D)$, the higher the purity of $D$.\n",
    "\n",
    "In the system evaluation index system, since each evaluation index has different roles, status and influence compared with other indicators in the same category, different weights must be assigned according to the importance of each index. The weight reflects the importance of each indicator in the indicator set, and the weight of an indicator is directly related to the contribution of this indicator to the overall. Therefore, determining the weight of the indicator system is the basis of system evaluation[2].In the entropy weight method, we believe that the data of the country with the largest information entropy is the most representative.We calculated the information entropy scores for all countries and placed the top ten countries and the weight of six indicators in the entropy weight method in **Figure 4**."
   ]
  },
  {
   "cell_type": "markdown",
   "id": "44629722",
   "metadata": {},
   "source": [
    "![](./images/5.svg)"
   ]
  },
  {
   "cell_type": "markdown",
   "id": "bb34afd4",
   "metadata": {},
   "source": [
    "<center>(b) Top 10 countries with information entropy scores</center>"
   ]
  },
  {
   "cell_type": "markdown",
   "id": "e024aeee",
   "metadata": {},
   "source": [
    "p.s.此图有bug，images文件夹里有同名正常文件"
   ]
  },
  {
   "cell_type": "markdown",
   "id": "a59ff85b",
   "metadata": {},
   "source": [
    "![](./images/6.svg)"
   ]
  },
  {
   "cell_type": "markdown",
   "id": "61639b45",
   "metadata": {},
   "source": [
    "<center>(a) The weight of six indicators in the entropy weight method</center>"
   ]
  },
  {
   "cell_type": "markdown",
   "id": "025ae19f",
   "metadata": {},
   "source": [
    "<center>Figure 4: Entropy weight method to select representative countries</center>"
   ]
  },
  {
   "cell_type": "markdown",
   "id": "a685796d",
   "metadata": {},
   "source": [
    "p.s. 这两个图放一行，饼图放左边，柱状图放右边"
   ]
  },
  {
   "cell_type": "markdown",
   "id": "5332d1da",
   "metadata": {},
   "source": [
    "To simplify the dataset further, we selected six countries by income level, and we put the results of the selection in **Table 2**."
   ]
  },
  {
   "cell_type": "markdown",
   "id": "70777a6f",
   "metadata": {},
   "source": [
    "<center>Table 2: The six most representative countries</center>"
   ]
  },
  {
   "cell_type": "markdown",
   "id": "3eef48b8",
   "metadata": {},
   "source": [
    "|Income level|Countries|\n",
    "|:---:|:---:|\n",
    "|High income|USA JPN|\n",
    "|Middle income|CHN IND|\n",
    "|Low income|NGA RUS|"
   ]
  },
  {
   "cell_type": "markdown",
   "id": "245b80e1",
   "metadata": {},
   "source": [
    "### Model Construction"
   ]
  },
  {
   "cell_type": "markdown",
   "id": "61201774",
   "metadata": {},
   "source": [
    "When considering model selection, we first pay attention to the characteristics of the problem we need to solve. We need to build a model that takes all the six measurements we mentioned into account to achieve global equity. The weights of the six factors we selected obviously cannot be equal, otherwise superpowers like China and the United States will divide most of their resources, which violates the principle of global equity. Therefore, we believe that the weights of these six factors should be country-specific, and that our strategies should take care of energy-poor, poor and backward countries.\n",
    "\n",
    "\n",
    "In the field of decision-making, the concept of priority is quintessential and how priorities are derived influences the choices one makes. Priorities should be unique and not one of many possibilities, they must also capture the dominance of the order expressed in the judgments of the pairwise comparison matrix[3]. So we choose **Analytic Hierarchy Process(AHP)** to help us make reasonable decisions to achieve global equity."
   ]
  },
  {
   "cell_type": "markdown",
   "id": "b8005be3",
   "metadata": {},
   "source": [
    "#### Establishment of the Judging Matrix"
   ]
  },
  {
   "cell_type": "markdown",
   "id": "15c9f763",
   "metadata": {},
   "source": [
    "We have for an $n$ by $n$ consistent matrix $A : A^k = n^{k-1}A, A = (w_i/w_j)$. A near consistent matrix is a small reciprocal(multiplicative) perturbation of a consistent matrix. It is given by the Hadamard product: $A = W · E$, where $W = (w_i/w_j)$ and $E \\equiv (\\epsilon _{ij}), \\epsilon _(ji) = \\epsilon_{ij}^{-1}$. Small means $\\epsilon _{ij}$ is close to one. Unlike an additive perturbation of the form $\\alpha _{ij} + \\gamma_{ij}$, a reciprocal perturbation $\\alpha_{ij}\\gamma_{ij}, \\epsilon _(ji) = \\epsilon_{ij}^{-1}$ is multiplicative. It can be transformed to an additive perturbation of a consistent matrix by writing:\n",
    "\n",
    "$$\\frac{w_i}{w_j} + \\gamma_{ij} = \\frac{w_i}{w_j}\\epsilon_{ij},  \\epsilon_{ij} = 1 + \\frac{w_j}{w_i}\\gamma_{ij}$$\n",
    "\n",
    "\n",
    "$$\\epsilon_{ji} = \\epsilon_{ij}^{-1} = \\frac{w_j}{w_i} + \\gamma_{ji} = \\frac{1}{1 + \\frac{w_j}{w_i}\\gamma_{ij}}$$\n",
    "\n",
    "Note that with a reciprocal perturbation we ensure that $\\lambda_{max} \\ge n$ which helps determine the validity of $w$ as a priorioty vector of a near consistent matrix.\n",
    "We have\n",
    "\n",
    "$\\sum_{j=1}^{n}\\epsilon_{ij} = \\sum_{j}\\alpha_{ij}w_j/w_i = [Aw]_i/w_i = \\lambda_{max}w_i/w_i \\\\= \\lambda_{max}$\n",
    "\n",
    "The computation\n",
    "\n",
    "$n\\lambda_{max} = \\sum_{i=1}^{n}(\\sum_{j=i}^{n}\\epsilon_{ij}) = \\sum_{i=1}^{n}\\epsilon_{ii} + \\sum_{i,j=1\\\\i\\neq j}^{n}(\\epsilon_{ij} + \\epsilon_{ji})$\n",
    "\n",
    "$= n + \\sum_{i,j=1\\\\i\\neq j}^{n}(\\epsilon_{ij} + \\epsilon_{ji})^{-1} \\ge n + (n^2 - n)/2 = n^2$\n",
    "\n",
    "\n",
    "reveals that $\\lambda_{max} \\ge n$. Moreover, since $x + 1/x \\ge 2$ for all $x > 0$, with equality if and only if $x = 1$, we see that $\\lambda_{max} = n$ if and only if all $\\epsilon_{ij} = 1$, which is equivalent to having all $\\alpha_{ij} = w_i/w_j$. The foregoing arguments show that a positive reciprocal matrix $A$ has $\\lambda_{max} \\ge n$, with equality if and only if $A$ is consistent[3]."
   ]
  },
  {
   "cell_type": "markdown",
   "id": "184e8d10",
   "metadata": {},
   "source": [
    "In order to get a more reasonable judging matrix, we have consulted a large number of literatures and we found the following conclusions. According to research, Relationships of science and technology growth rate with both population and population growth rate in the past ten thousand years are non-linear.[4] and The positive correlation between human development and GDP is not due to reverse causality but that high levels of human development and of technology change both significantly improve economic performance[5]. While according to the research, findings from various countries confirm the positive effect of ICT on GDP growth. What's more, population growth, because it places increased pressure on the assimilative capacity of the environment, is also viewed as a major cause of air, water, and solid-waste pollution. Furthermore，The relationship between population pressures and deforestation to create arable land is clearly affected by the use of modern agricultural technology, which reduces land requirements. n order to obtain the relationship between the importance of the environment, energy consumption and fuel imports, we find that Energy consumption and energy imports are of roughly equal importance[6]. And We all know the relationship between excessive energy consumption and environmental pollution, This means that an increase in energy consumption results in an increase in emissions[7].\n",
    "\n",
    "\n",
    "Combining our findings above, we get the following judging matrix of size $6\\times6$ in **Table 3** and **Figure 5**. And we put the compare the scale of matrices in **Table 4**."
   ]
  },
  {
   "cell_type": "markdown",
   "id": "9383f977",
   "metadata": {},
   "source": [
    "<center>Table 3: The Judging Matrix</center>"
   ]
  },
  {
   "cell_type": "markdown",
   "id": "e52dbf5f",
   "metadata": {},
   "source": [
    "||$A_1$|$A_2$|$A_3$|$A_4$|$A_5$|$A_6$|\n",
    "|:---:|:---:|:---:|:---:|:---:|:---:|:---:|\n",
    "|$A_1$|1|1|1/3|1/5|1/7|1/3|\n",
    "|$A_2$|1|1|1/3|1/5|1/3|1/3|\n",
    "|$A_3$|3|3|1|1/3|1/5|1/5|\n",
    "|$A_4$|5|5|3|1|1/3|1/3|\n",
    "|$A_5$|7|3|5|3|1|1|\n",
    "|$A_6$|3|3|5|3|1|1|"
   ]
  },
  {
   "cell_type": "markdown",
   "id": "29fe86b1",
   "metadata": {},
   "source": [
    "<center>Table 4: Compare the scale of matrices</center>"
   ]
  },
  {
   "cell_type": "markdown",
   "id": "ba8b42e9",
   "metadata": {},
   "source": [
    "|scale|1|2|3|4|5|6|7|8|9|\n",
    "|:---:|:---:|:---:|:---:|:---:|:---:|:---:|:---:|:---:|:---:|\n",
    "|importance|the same||slightly stronger||strong||obviously strong||absolutely strong|"
   ]
  },
  {
   "cell_type": "markdown",
   "id": "b8704a46",
   "metadata": {},
   "source": [
    "![](./images/7.svg)"
   ]
  },
  {
   "cell_type": "markdown",
   "id": "e53f4d6d",
   "metadata": {},
   "source": [
    "Figure 5: Brighter areas in the heat map mean that the horizontal quantities are more important than the corresponding vertical quantities."
   ]
  },
  {
   "cell_type": "markdown",
   "id": "7d173cca",
   "metadata": {},
   "source": [
    "p.s. 和上次一样，表格放左边，图放右边"
   ]
  },
  {
   "cell_type": "markdown",
   "id": "083577aa",
   "metadata": {},
   "source": [
    "#### Historical and Regional analyses of Our Model"
   ]
  },
  {
   "cell_type": "markdown",
   "id": "9709a839",
   "metadata": {},
   "source": [
    "We use the AHP algorithm to obtain the change in the proportion of resources that should be allocated to six countries over the years, and predict the trend of this proportion change until 2050. From the **Figure 6**, we can see that with the change of time, the various situations of various countries are also changing, and the proportion of space minerals that should be allocated to each country is also changing. For example, by 2034, the proportion of the United States and India will be exactly the same, and by 2041, the proportion of the United States and China will be roughly the same, and according to our forecast, the proportion of the United States' asteroid mining revenue will be larger and larger. , this is an issue worthy of our consideration. After all, the principle of global equity should include avoiding all forms of monopoly."
   ]
  },
  {
   "cell_type": "markdown",
   "id": "eb001b0a",
   "metadata": {},
   "source": [
    "![](./images/8.svg)"
   ]
  },
  {
   "cell_type": "markdown",
   "id": "998282c4",
   "metadata": {},
   "source": [
    "<center>Figure 6: Shares of the six countries over time and projections to 2050</center>"
   ]
  },
  {
   "cell_type": "markdown",
   "id": "0dda9252",
   "metadata": {},
   "source": [
    "As shown in the Venn chart of all the data we obtained, we can see that there are only 88 countries with relatively complete data in several data, while the following figure shows the score of some of the 88 countries at the comprehensive level in the map (we only show the data of every decade from 2000 to 2050) in **Figure 7**:"
   ]
  },
  {
   "cell_type": "markdown",
   "id": "8fb7a2cd",
   "metadata": {},
   "source": [
    "![](./images/9.svg)"
   ]
  },
  {
   "cell_type": "markdown",
   "id": "684abee3",
   "metadata": {},
   "source": [
    "<center>(a) Wayne chart of all the data</center>"
   ]
  },
  {
   "cell_type": "markdown",
   "id": "3b311bf7",
   "metadata": {},
   "source": [
    "![](./images/10.svg)"
   ]
  },
  {
   "cell_type": "markdown",
   "id": "90a6c193",
   "metadata": {},
   "source": [
    "<center>(b) 88 countries at the comprehensive level</center>"
   ]
  },
  {
   "cell_type": "markdown",
   "id": "c312229d",
   "metadata": {},
   "source": [
    "<center>Figure 7: Venn chart and world heatmaps</center>"
   ]
  },
  {
   "cell_type": "markdown",
   "id": "70f509d5",
   "metadata": {},
   "source": [
    "p.s.这两个图看能不能放一行，韦恩图小一点，地图大一点，如果不行就放两行"
   ]
  },
  {
   "cell_type": "markdown",
   "id": "57a129c5",
   "metadata": {},
   "source": [
    "## References"
   ]
  },
  {
   "cell_type": "markdown",
   "id": "0a8392a2",
   "metadata": {},
   "source": [
    "[1] Girard M, Nikiema J, Brzezinski R, et al. A review of the environmental pollution originating from the piggery industry and of the available mitigation technologies: towards the simultaneous biofiltration of swine slurry and methane[J]. Canadian Journal of Civil Engineering, 2009, 36(12): 1946-1957.\n",
    "\n",
    "\n",
    "[2] Cheng Qi-yue. Structure entropy weight method to confirm the weight of evaluating index[J]. Department of Information and Conductor, National Defense University, 2010, 30(7): 1225-1228.\n",
    "\n",
    "\n",
    "[3] Saaty T L. Decision making with the analytic hierarchy process[J]. International journal of services sciences, 2008, 1(1): 83-98.\n",
    "\n",
    "\n",
    "[4] Dong J, Li W, Cao Y, et al. How does technology and population progress relate? An empirical study of the last 10,000 years[J]. Technological Forecasting and Social Change, 2016, 103: 57-70.\n",
    "\n",
    "\n",
    "[5] Ranis G. Technology and human development[R]. Center Discussion Paper, 2011.\n",
    "\n",
    "\n",
    "[6] Adams F G, Shachmurove Y. Modeling and forecasting energy consumption in China: Implications for Chinese energy demand and imports in 2020[J]. Energy economics, 2008, 30(3): 1263-1278.\n",
    "\n",
    "\n",
    "[7] Acaravci A, Ozturk I. On the relationship between energy consumption, CO2 emissions and economic growth in Europe[J]. Energy, 2010, 35(12): 5412-5420."
   ]
  },
  {
   "cell_type": "markdown",
   "id": "33c0bc35",
   "metadata": {},
   "source": [
    "## Appendices"
   ]
  },
  {
   "cell_type": "markdown",
   "id": "e2afe890",
   "metadata": {},
   "source": [
    "### Appendix A   Core Codes For Entropy Weight Method"
   ]
  },
  {
   "cell_type": "code",
   "execution_count": null,
   "id": "4fb3eee1",
   "metadata": {},
   "outputs": [],
   "source": [
    "##Define data normalization functions. \\\\\n",
    "##In order to avoid the logarithm meaningless when calculating the entropy value,\\\\\n",
    "##对The data is shifted, and a constant 0.001 is added to the standardized data uniformly\n",
    "def std_data(value,flag):\n",
    "    for i in range(len(indicator)):\n",
    "        #print(flag[i])\n",
    "        if flag[i]=='+':\n",
    "            value[:,i]=(value[:,i]-np.min(value[:,i],axis=0))/\\\\\n",
    "            (np.max(value[:,i],axis=0)-np.min(value[:,i],axis=0))+0.001\n",
    "        elif flag[i]=='-':\n",
    "            value[:,i]=(np.max(value[:,i],axis=0)-value[:,i])/\\\\\n",
    "            (np.max(value[:,i],axis=0)-np.min(value[:,i],axis=0))+0.001\n",
    "    return value\n",
    "\n",
    "#Define the entropy value method function, \\\\\n",
    "#and the entropy value method calculates the weight of the variable\n",
    "def cal_weight(indicator,project,value):\n",
    "    p= np.array([[0.0 for i in range(len(indicator))]\\\\\n",
    "                 for i in range(len(project))])                    \n",
    "    #print(p)\n",
    "    for i in range(len(indicator)):\n",
    "        p[:,i]=value[:,i]/np.sum(value[:,i],axis=0)\n",
    "        \n",
    "    e=-1/np.log(len(project))*sum(p*np.log(p)) # Calculate the entropy value\n",
    "    g=1-e     # Calculate the degree of consistency\n",
    "    w=g/sum(g)     # Calculate weights\n",
    "    return w"
   ]
  },
  {
   "cell_type": "markdown",
   "id": "e03de704",
   "metadata": {},
   "source": [
    "### Appendix B   Core Codes For AHP"
   ]
  },
  {
   "cell_type": "code",
   "execution_count": null,
   "id": "c8847be0",
   "metadata": {},
   "outputs": [],
   "source": [
    "class AHP:\n",
    "    def __init__(self, criteria, b):\n",
    "        self.RI = (0, 0, 0.58, 0.9, 1.12, 1.24, 1.32, 1.41, 1.45, 1.49)\n",
    "        self.criteria = criteria\n",
    "        self.b = b\n",
    "        self.num_criteria = criteria.shape[0]\n",
    "        self.num_project = b[0].shape[0]\n",
    "\n",
    "    def cal_weights(self, input_matrix):\n",
    "        input_matrix = np.array(input_matrix)\n",
    "        n, n1 = input_matrix.shape\n",
    "        assert n == n1, 'not a square matrix'\n",
    "        for i in range(n):\n",
    "            for j in range(n):\n",
    "                if np.abs(input_matrix[i, j] *\\\\\n",
    "                input_matrix[j, i] - 1) > 1e-7:\n",
    "                    raise ValueError('not an \\\\\n",
    "                    anti-mutually symmetric matrix')\n",
    "\n",
    "        eigenvalues, eigenvectors = np.linalg.eig(input_matrix)\n",
    "\n",
    "        max_idx = np.argmax(eigenvalues)\n",
    "        max_eigen = eigenvalues[max_idx].real\n",
    "        eigen = eigenvectors[:, max_idx].real\n",
    "        eigen = eigen / eigen.sum()\n",
    "\n",
    "        if n > 9:\n",
    "            CR = None\n",
    "            warnings.warn('Unable to judge consistency')\n",
    "        else:\n",
    "            CI = (max_eigen - n) / (n - 1)\n",
    "            CR = CI / self.RI[n-1]\n",
    "        return max_eigen, CR, eigen\n",
    "\n",
    "    def run(self):\n",
    "        max_eigen, CR, criteria_eigen = \\\\\n",
    "        self.cal_weights(self.criteria)\n",
    "        print('Criterion layer: maximum eigenvalue {:<5f}, CR={:<5f}, \n",
    "              test {} passed'\\\n",
    "              .format(max_eigen, CR, '' if CR < 0.1 else 'no'))\n",
    "        print('Criterion layer weight={}\\n'.format(criteria_eigen))\n",
    "\n",
    "        max_eigen_list, CR_list, eigen_list = [], [], []\n",
    "        for i in self.b:\n",
    "            max_eigen, CR, eigen = self.cal_weights(i)\n",
    "            max_eigen_list.append(max_eigen)\n",
    "            CR_list.append(CR)\n",
    "            eigen_list.append(eigen)\n",
    "\n",
    "        pd_print = pd.DataFrame(eigen_list,\n",
    "                                index=['criterion' + \\\\\n",
    "                                       str(i) for i in \\\\\n",
    "                                       range(self.num_criteria)],\n",
    "                                columns=['plan' + \\\\\n",
    "                                         str(i) for i in \\\\\n",
    "                                         range(self.num_project)],\n",
    "                                )\n",
    "        pd_print.loc[:, 'largest eigenvalue'] = max_eigen_list\n",
    "        pd_print.loc[:, 'CR'] = CR_list\n",
    "        pd_print.loc[:, 'Consistency check'] = pd_print.loc[:, 'CR'] < 0.1\n",
    "        print('Scheme layer')\n",
    "        print(pd_print)\n",
    "\n",
    "        # Criterion layer\n",
    "        obj = np.dot(criteria_eigen.reshape(1, -1), np.array(eigen_list))\n",
    "        print('\\nCriterion layer', obj)\n",
    "        print('The best scheme is the plan{}'.format(np.argmax(obj)))\n",
    "        return obj"
   ]
  },
  {
   "cell_type": "markdown",
   "id": "fc48a561",
   "metadata": {},
   "source": [
    "p.s.最后如果页数抄了就删减代码或者直接摒弃"
   ]
  }
 ],
 "metadata": {
  "kernelspec": {
   "display_name": "Python 3",
   "language": "python",
   "name": "python3"
  },
  "language_info": {
   "codemirror_mode": {
    "name": "ipython",
    "version": 3
   },
   "file_extension": ".py",
   "mimetype": "text/x-python",
   "name": "python",
   "nbconvert_exporter": "python",
   "pygments_lexer": "ipython3",
   "version": "3.8.8"
  },
  "toc": {
   "base_numbering": 1,
   "nav_menu": {},
   "number_sections": false,
   "sideBar": false,
   "skip_h1_title": false,
   "title_cell": "Table of Contents",
   "title_sidebar": "Contents",
   "toc_cell": false,
   "toc_position": {
    "height": "194.395px",
    "left": "10px",
    "top": "150px",
    "width": "165px"
   },
   "toc_section_display": true,
   "toc_window_display": true
  },
  "varInspector": {
   "cols": {
    "lenName": 16,
    "lenType": 16,
    "lenVar": 40
   },
   "kernels_config": {
    "python": {
     "delete_cmd_postfix": "",
     "delete_cmd_prefix": "del ",
     "library": "var_list.py",
     "varRefreshCmd": "print(var_dic_list())"
    },
    "r": {
     "delete_cmd_postfix": ") ",
     "delete_cmd_prefix": "rm(",
     "library": "var_list.r",
     "varRefreshCmd": "cat(var_dic_list()) "
    }
   },
   "types_to_exclude": [
    "module",
    "function",
    "builtin_function_or_method",
    "instance",
    "_Feature"
   ],
   "window_display": false
  }
 },
 "nbformat": 4,
 "nbformat_minor": 5
}
