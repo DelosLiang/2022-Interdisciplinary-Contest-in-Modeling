{
 "cells": [
  {
   "cell_type": "markdown",
   "id": "be45244e",
   "metadata": {},
   "source": [
    "## Definition of Global Equity"
   ]
  },
  {
   "cell_type": "markdown",
   "id": "4d3c5df9",
   "metadata": {},
   "source": [
    "### Method Overview"
   ]
  },
  {
   "cell_type": "markdown",
   "id": "09fe23de",
   "metadata": {},
   "source": [
    "### Establishment of the Index System"
   ]
  },
  {
   "cell_type": "markdown",
   "id": "83fc0329",
   "metadata": {},
   "source": [
    "![](./images/12.svg)"
   ]
  },
  {
   "cell_type": "markdown",
   "id": "4ee02e4f",
   "metadata": {},
   "source": [
    "<center>Figure1: Index system of global equity</center>"
   ]
  },
  {
   "cell_type": "markdown",
   "id": "90f4cb4a",
   "metadata": {},
   "source": [
    "First, as we can see in the figure, we measure global equity in two broad categories. The first category is population happiness, which includes education spending as a percentage of GDP, life expectancy, electrification rate, and proportion of urban residents. According to relevant research, these four factors contribute significantly to population happiness[1] . The second category is strength development, which consists of forest area, government spending as a percentage of GDP, PPP-adjusted national income per capita and R&D spending as a percentage of GDP. According to the results of literature review, we believe that these four Factors are sufficient to summarize the degree of development of a region [2]. We will calculate the weights of these factors in the following parts, and finally get a region-based indicator system for measuring global equity. Using this indicator system, we can calculate the value of the overall strength of each region. Finally, we use the root mean square obtained from this set of values as our index to measure global equity."
   ]
  },
  {
   "cell_type": "markdown",
   "id": "5f59b556",
   "metadata": {},
   "source": [
    "### Data Process"
   ]
  },
  {
   "cell_type": "markdown",
   "id": "662ca78a",
   "metadata": {},
   "source": [
    "#### Prediction via ARIMA Model"
   ]
  },
  {
   "cell_type": "markdown",
   "id": "3535f864",
   "metadata": {},
   "source": [
    "First of all it is obvious that we cannot mine in space today, but we assume that the mining industry on the Moon will be fully exploited by 2050. mining on the Moon will be fully exploited by 2050, so in the following we will use a **Time Series Model** to make reasonable predictions for our selected variables and then proceed to the next step of the analysis. So we will use a time series model to make reasonable predictions for our selected variables and then proceed to the next step of the analysis.\n",
    "\n",
    "\n",
    "**ARIMA Model**, that is, differential autoregressive moving average model, is one of the methods of time-domain analysis of time series. Time-domain analysis of time series reveals the development law of time series from the perspective of sequence autocorrelation, mainly including AR model, MA model, ARIMA model, autoregressive conditional heteroscedasticity model and its derivative models. ARIMA model is a method developed on the basis of AR model and MA model.\n",
    "\n",
    "\n",
    "The model can stabilize non-stationary time series by difference method, which can overcome the disadvantage that AR model and MA model can only deal with stationary time series. At the same time, compared with arch model and its derivative model, this model has the characteristics of simple structure and less input variables, It is one of the most widely used methods for univariate time series data prediction, which is convenient for business promotion. ARIMA model is recorded as $ARIMA (p, d, q)$, where $p$ is the order of AR model, $q$ is the order of MA model, and $d$ is the difference order. The general expression of the model is as follows:\n",
    "\n",
    "\n",
    "$$Y_t = c + \\phi_1y_{t-1} + ... + \\phi_py_{t-p} + \\theta_1\\epsilon_{t-1} + \\theta_q + ... + \\epsilon_t$$\n",
    "\n",
    "\n",
    "Where $Y_t$ are differential sequences, $\\epsilon_t$ is the noise sequence, $\\phi$ is the fitting parameter of AR model, $\\theta$ is the fit parameters for MA model.\n",
    "\n",
    "\n",
    "Generally speaking, the establishment of ARIMA model has three stages: model identification and order determination, parameter estimation and model test. Model identification and order determination mainly determine the model parameters $p$, $q$ and $d$ according to the truncation and tailing properties of autocorrelation diagram\n",
    "(ACF diagram) and partial autocorrelation diagram (PACF diagram). Parameter estimation mainly selects the optimal prediction model according to Akaike information criterion (AIC criterion) and Bayesian information criterion (BIC\n",
    "criterion). The model test mainly includes the significance test of parameter estimation and whether the residual is a random independent white noise sequence. We present the autocorrelation diagram (ACF diagram) and the partial autocorrelation diagram (PACF diagram) in **Figure 2**."
   ]
  },
  {
   "cell_type": "markdown",
   "id": "d6fb12b1",
   "metadata": {},
   "source": [
    "这个图等王同学给"
   ]
  },
  {
   "cell_type": "markdown",
   "id": "aa06cc39",
   "metadata": {},
   "source": [
    "<center>(a) ACF diagram</center>"
   ]
  },
  {
   "cell_type": "markdown",
   "id": "08bd666d",
   "metadata": {},
   "source": [
    "这个图等王同学给"
   ]
  },
  {
   "cell_type": "markdown",
   "id": "d216ac06",
   "metadata": {},
   "source": [
    "<center>(b) PACF diagram</center>"
   ]
  },
  {
   "cell_type": "markdown",
   "id": "754c3bb4",
   "metadata": {},
   "source": [
    "<center>Figure 2: Autocorrelation and partial autocorrelation diagram</center>"
   ]
  },
  {
   "cell_type": "markdown",
   "id": "42a20931",
   "metadata": {},
   "source": [
    "p.s. 这两个图放一行一左一右"
   ]
  },
  {
   "cell_type": "markdown",
   "id": "b97968ed",
   "metadata": {},
   "source": [
    "As above, we only show the autocorrelation diagram and partial autocorrelation diagram of various data in the United States. We can see that most variables are unstable, so we need to make one or two differences. Then we carry out Arima modeling and prediction for each index of each country, and use the obtained results combined with entropy weight method and analytic hierarchy process to obtain the mining share of each country. We put the predicted results in **Figure 3** below."
   ]
  },
  {
   "cell_type": "markdown",
   "id": "1c34a452",
   "metadata": {},
   "source": [
    "这个图等王同学给"
   ]
  },
  {
   "cell_type": "markdown",
   "id": "586eaee0",
   "metadata": {},
   "source": [
    "<center>Figure 3: Predictions for indicators up to 2050</center>"
   ]
  },
  {
   "cell_type": "markdown",
   "id": "9d834a92",
   "metadata": {},
   "source": [
    "As shown in the figure above, $ARIMA (p, d, q)$ is used to predict the results of various indicators in the United States."
   ]
  },
  {
   "cell_type": "markdown",
   "id": "aa057d46",
   "metadata": {},
   "source": [
    "#### Screening Representative Information by Entropy Weight Method"
   ]
  },
  {
   "cell_type": "markdown",
   "id": "28f3c9c6",
   "metadata": {},
   "source": [
    "First of all, we first defined the previously selected indicators Education spending as a percentage of GDP, Life expectancy, Electrification rate, Proportion of urban residents as $A_1$, $A_2$, $A_3$, and $A_4$ respectively and selected Forest area, Government spending as a percentage of GDP, PPP-adjusted national income per capita and R&D spending as a percentage of GDP as $A_5$, $A_6$, $A_7$, and $A_8$ respectively. These indicators are normalized by their respective components and weighted by experts. At the same time, we put the categories in **Table 2**."
   ]
  },
  {
   "cell_type": "markdown",
   "id": "7a218357",
   "metadata": {},
   "source": [
    "<center>Table 2: Categories of population happiness and Strength development</center>"
   ]
  },
  {
   "cell_type": "markdown",
   "id": "35c6f14d",
   "metadata": {},
   "source": [
    "|Index|Population happiness|\n",
    "|:---:|:---:|\n",
    "|Education spending as a percentage of GDP|$A_1$|\n",
    "|Life expectancy|$A_2$|\n",
    "|Electrification rate|$A_3$|\n",
    "|Proportion of urban residents|$A_4$|"
   ]
  },
  {
   "cell_type": "markdown",
   "id": "d96bd2f1",
   "metadata": {},
   "source": [
    "|Index|Strength development|\n",
    "|:---:|:---:|\n",
    "|Forest area|$A_5$|\n",
    "|Government spending as a percentage of GDP|$A_6$|\n",
    "|PPP-adjusted national income per capita|$A_7$|\n",
    "|R&D spending as a percentage of GDP|$A_8$|"
   ]
  },
  {
   "cell_type": "markdown",
   "id": "8fc4bb64",
   "metadata": {},
   "source": [
    "p.s.这两个图放一行"
   ]
  },
  {
   "cell_type": "markdown",
   "id": "9aa850b0",
   "metadata": {},
   "source": [
    "In this section, we use the **Entropy Weight Method** to estimate the weight of each indicator in its category. In the entropy weight method, information entropy is the most commonly used indicator to measure the purity of a sample set. Assuming that the proportion of the $k$-th sample in the current sample set $D$ is $p_k(k = 1,2,...,|y|)$, the information entropy of $D$ is defined as:\n",
    "\n",
    "$$Ent(D) = -\\sum_{k=1}^{|y|}p_klog_2p_k.$$\n",
    "\n",
    "The smaller the value of $Ent(D)$, the higher the purity of $D$.\n",
    "\n",
    "In the system evaluation index system, since each evaluation index has different roles, status and influence compared with other indicators in the same category, different weights must be assigned according to the importance of each index. The weight reflects the importance of each indicator in the indicator set, and the weight of an indicator is directly related to the contribution of this indicator to the overall. Therefore, determining the weight of the indicator system is the basis of system evaluation[2]. We calculated the information entropy scores for all regions and placed the weight of eight indicators via the entropy weight method in **Figure 4**."
   ]
  },
  {
   "cell_type": "markdown",
   "id": "b679927a",
   "metadata": {},
   "source": [
    "![](./images/13.svg)"
   ]
  },
  {
   "cell_type": "markdown",
   "id": "9ebdcfda",
   "metadata": {},
   "source": [
    "<center>(a) Population happiness</center>"
   ]
  },
  {
   "cell_type": "markdown",
   "id": "94fe8422",
   "metadata": {},
   "source": [
    "![](./images/14.svg)"
   ]
  },
  {
   "cell_type": "markdown",
   "id": "c945837d",
   "metadata": {},
   "source": [
    "<center>(b) Strength development</center>"
   ]
  },
  {
   "cell_type": "markdown",
   "id": "0607e6e1",
   "metadata": {},
   "source": [
    "<center>Figure 4: Weights of each category</center>"
   ]
  },
  {
   "cell_type": "markdown",
   "id": "301dc1a2",
   "metadata": {},
   "source": [
    "p.s.这两个图放一行，两个同都有bug，images文件夹里有同名正常pdf文件"
   ]
  },
  {
   "cell_type": "markdown",
   "id": "91f1b09c",
   "metadata": {},
   "source": [
    "### Validation of Our Model"
   ]
  },
  {
   "cell_type": "markdown",
   "id": "ae57fc1e",
   "metadata": {},
   "source": [
    "## References"
   ]
  },
  {
   "cell_type": "markdown",
   "id": "a222827b",
   "metadata": {},
   "source": [
    "[1] Cummins R A. Measuring population happiness to inform public policy[C]//The 3rd OECD World Forum on «Statistics, Knowledge and Policy». Charting Progress, Buildings Visions, Improving Life.—Bussan, Korea. 2009: 1-11.\n",
    "\n",
    "\n",
    "[2] Territorial governance: local development, rural areas and agrofood systems[M]. Springer Science & Business Media, 2011."
   ]
  }
 ],
 "metadata": {
  "kernelspec": {
   "display_name": "Python 3",
   "language": "python",
   "name": "python3"
  },
  "language_info": {
   "codemirror_mode": {
    "name": "ipython",
    "version": 3
   },
   "file_extension": ".py",
   "mimetype": "text/x-python",
   "name": "python",
   "nbconvert_exporter": "python",
   "pygments_lexer": "ipython3",
   "version": "3.8.8"
  },
  "toc": {
   "base_numbering": 1,
   "nav_menu": {},
   "number_sections": false,
   "sideBar": false,
   "skip_h1_title": false,
   "title_cell": "Table of Contents",
   "title_sidebar": "Contents",
   "toc_cell": false,
   "toc_position": {
    "height": "99.9958px",
    "left": "10px",
    "top": "150px",
    "width": "165px"
   },
   "toc_section_display": true,
   "toc_window_display": true
  },
  "varInspector": {
   "cols": {
    "lenName": 16,
    "lenType": 16,
    "lenVar": 40
   },
   "kernels_config": {
    "python": {
     "delete_cmd_postfix": "",
     "delete_cmd_prefix": "del ",
     "library": "var_list.py",
     "varRefreshCmd": "print(var_dic_list())"
    },
    "r": {
     "delete_cmd_postfix": ") ",
     "delete_cmd_prefix": "rm(",
     "library": "var_list.r",
     "varRefreshCmd": "cat(var_dic_list()) "
    }
   },
   "types_to_exclude": [
    "module",
    "function",
    "builtin_function_or_method",
    "instance",
    "_Feature"
   ],
   "window_display": false
  }
 },
 "nbformat": 4,
 "nbformat_minor": 5
}
