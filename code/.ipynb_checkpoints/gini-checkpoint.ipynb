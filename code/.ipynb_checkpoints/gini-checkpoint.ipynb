{
 "cells": [
  {
   "cell_type": "code",
   "execution_count": 1,
   "id": "f077e068",
   "metadata": {
    "ExecuteTime": {
     "end_time": "2022-02-20T04:34:27.934724Z",
     "start_time": "2022-02-20T04:34:27.926723Z"
    }
   },
   "outputs": [],
   "source": [
    "import numpy as np\n",
    "\n",
    "def gini(data_list):\n",
    "    '''获得列表中的gini系数'''\n",
    "    data_length = len(data_list)\n",
    "    total_sum = np.sum(data_list)\n",
    "    total_gini = 0\n",
    "    for i in range(data_length):\n",
    "        temp_denominator = data_list[i][0] + data_list[i][1]\n",
    "        temp_son = np.sum(data_list[i])\n",
    "        temp_gini = 1 - np.power(data_list[i][0]/temp_denominator, 2) - np.power(data_list[i][1]/temp_denominator, 2)\n",
    "        total_gini = temp_gini * temp_son / total_sum + total_gini\n",
    "    return total_gini"
   ]
  },
  {
   "cell_type": "code",
   "execution_count": 6,
   "id": "9d3be61e",
   "metadata": {
    "ExecuteTime": {
     "end_time": "2022-02-20T04:40:37.307392Z",
     "start_time": "2022-02-20T04:40:37.291388Z"
    }
   },
   "outputs": [
    {
     "data": {
      "text/plain": [
       "0.4946484833733368"
      ]
     },
     "execution_count": 6,
     "metadata": {},
     "output_type": "execute_result"
    }
   ],
   "source": [
    "d1=[[0.31745494 ,0.25792839 ,0.18051446, 0.01149195, 0.10030173 ,0.13230853]]\n",
    "gini(d1)"
   ]
  },
  {
   "cell_type": "code",
   "execution_count": 7,
   "id": "3f3a5aa7",
   "metadata": {
    "ExecuteTime": {
     "end_time": "2022-02-20T04:41:48.103024Z",
     "start_time": "2022-02-20T04:41:48.090021Z"
    }
   },
   "outputs": [
    {
     "data": {
      "text/plain": [
       "0.4942519210345194"
      ]
     },
     "execution_count": 7,
     "metadata": {},
     "output_type": "execute_result"
    }
   ],
   "source": [
    "d2=[[0.32073401, 0.25861602 ,0.17754811, 0.01132373, 0.09953738 ,0.13224075]]\n",
    "gini(d2)"
   ]
  },
  {
   "cell_type": "code",
   "execution_count": 9,
   "id": "568939d6",
   "metadata": {
    "ExecuteTime": {
     "end_time": "2022-02-20T04:43:34.926109Z",
     "start_time": "2022-02-20T04:43:34.912138Z"
    }
   },
   "outputs": [
    {
     "data": {
      "text/plain": [
       "0.4936829368612372"
      ]
     },
     "execution_count": 9,
     "metadata": {},
     "output_type": "execute_result"
    }
   ],
   "source": [
    "d3=[[0.32352525 ,0.25814461 ,0.17615208 ,0.01119322, 0.09889128 ,0.13209356]]\n",
    "gini(d3)"
   ]
  },
  {
   "cell_type": "code",
   "execution_count": 10,
   "id": "da4b5d01",
   "metadata": {
    "ExecuteTime": {
     "end_time": "2022-02-20T04:44:57.710076Z",
     "start_time": "2022-02-20T04:44:57.703072Z"
    }
   },
   "outputs": [
    {
     "data": {
      "text/plain": [
       "0.4930747446743794"
      ]
     },
     "execution_count": 10,
     "metadata": {},
     "output_type": "execute_result"
    }
   ],
   "source": [
    "d4=[[0.32607323 ,0.25740476 ,0.17520194 ,0.01107848,0.09830457, 0.13193702]]\n",
    "gini(d4)"
   ]
  },
  {
   "cell_type": "code",
   "execution_count": 12,
   "id": "581b5855",
   "metadata": {
    "ExecuteTime": {
     "end_time": "2022-02-20T04:46:01.448351Z",
     "start_time": "2022-02-20T04:46:01.435843Z"
    }
   },
   "outputs": [
    {
     "data": {
      "text/plain": [
       "0.4924553765547625"
      ]
     },
     "execution_count": 12,
     "metadata": {},
     "output_type": "execute_result"
    }
   ],
   "source": [
    "d5=[[0.32844591 ,0.25658207 ,0.17445453, 0.01097399, 0.09776022, 0.13178328]]\n",
    "gini(d5)"
   ]
  },
  {
   "cell_type": "code",
   "execution_count": 13,
   "id": "957482fc",
   "metadata": {
    "ExecuteTime": {
     "end_time": "2022-02-20T04:47:25.559368Z",
     "start_time": "2022-02-20T04:47:25.543365Z"
    }
   },
   "outputs": [
    {
     "data": {
      "text/plain": [
       "0.49183458844306294"
      ]
     },
     "execution_count": 13,
     "metadata": {},
     "output_type": "execute_result"
    }
   ],
   "source": [
    "d6= [[0.33067618 ,0.25573718 ,0.17382386 ,0.01087734 ,0.09724999, 0.13163545]]\n",
    "gini(d6)"
   ]
  }
 ],
 "metadata": {
  "kernelspec": {
   "display_name": "Python 3",
   "language": "python",
   "name": "python3"
  },
  "language_info": {
   "codemirror_mode": {
    "name": "ipython",
    "version": 3
   },
   "file_extension": ".py",
   "mimetype": "text/x-python",
   "name": "python",
   "nbconvert_exporter": "python",
   "pygments_lexer": "ipython3",
   "version": "3.8.8"
  },
  "toc": {
   "base_numbering": 1,
   "nav_menu": {},
   "number_sections": false,
   "sideBar": false,
   "skip_h1_title": false,
   "title_cell": "Table of Contents",
   "title_sidebar": "Contents",
   "toc_cell": false,
   "toc_position": {},
   "toc_section_display": true,
   "toc_window_display": true
  },
  "varInspector": {
   "cols": {
    "lenName": 16,
    "lenType": 16,
    "lenVar": 40
   },
   "kernels_config": {
    "python": {
     "delete_cmd_postfix": "",
     "delete_cmd_prefix": "del ",
     "library": "var_list.py",
     "varRefreshCmd": "print(var_dic_list())"
    },
    "r": {
     "delete_cmd_postfix": ") ",
     "delete_cmd_prefix": "rm(",
     "library": "var_list.r",
     "varRefreshCmd": "cat(var_dic_list()) "
    }
   },
   "types_to_exclude": [
    "module",
    "function",
    "builtin_function_or_method",
    "instance",
    "_Feature"
   ],
   "window_display": false
  }
 },
 "nbformat": 4,
 "nbformat_minor": 5
}
