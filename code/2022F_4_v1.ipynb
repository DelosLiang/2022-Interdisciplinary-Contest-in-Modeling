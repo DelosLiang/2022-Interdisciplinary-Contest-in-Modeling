{
 "cells": [
  {
   "cell_type": "markdown",
   "id": "50647e4b",
   "metadata": {},
   "source": [
    "## Policy Recommendations"
   ]
  },
  {
   "cell_type": "markdown",
   "id": "495e603a",
   "metadata": {},
   "source": [
    "Based on the conclusions reached in the previous subsection, we found that increasing the emphasis on science and technology can narrow the gap in the allocation of space resources between regions, which is meant to promote more global equity. In addition, we found that if we continue to look at the earth indifferently If the environmental pollution in China becomes more and more serious, then global equity will only be further damaged. Therefore, we put forward suggestions on the formulation of UN policies from the perspectives of scientific and technological development and environmental protection. "
   ]
  },
  {
   "cell_type": "markdown",
   "id": "9e32f730",
   "metadata": {},
   "source": [
    "### Scientific and Technological Development"
   ]
  },
  {
   "cell_type": "markdown",
   "id": "bbee7aa0",
   "metadata": {},
   "source": [
    "We believe that the UN Outer Space Treaty timetable should consider the following time points and the goals that should be achieved at the corresponding time points, which will better promote global equity. We present the timetable in **Figure 1**."
   ]
  },
  {
   "cell_type": "markdown",
   "id": "b79731ba",
   "metadata": {},
   "source": [
    "![](./images/16.svg)"
   ]
  },
  {
   "cell_type": "markdown",
   "id": "f7523631",
   "metadata": {},
   "source": [
    "<center>Figure 1: Outer Space Treaty Planning Timeline<center>"
   ]
  },
  {
   "cell_type": "markdown",
   "id": "91529c71",
   "metadata": {},
   "source": [
    "### Environmental Protection"
   ]
  },
  {
   "cell_type": "markdown",
   "id": "afc5b7b4",
   "metadata": {},
   "source": [
    "According to our conclusions in Section 3, environmental pollution will increase inequality between regions, so we believe that UN policy should take environmental protection into the scope of the Outer Space Treaty. We have put our recommendations in **Table 1** below."
   ]
  },
  {
   "cell_type": "markdown",
   "id": "ecea6ebc",
   "metadata": {},
   "source": [
    "<center>Table 1: The Promotion of Environment Protection</center>"
   ]
  },
  {
   "cell_type": "markdown",
   "id": "1c4f4017",
   "metadata": {},
   "source": [
    "![](./images/17.svg)"
   ]
  }
 ],
 "metadata": {
  "kernelspec": {
   "display_name": "Python 3",
   "language": "python",
   "name": "python3"
  },
  "language_info": {
   "codemirror_mode": {
    "name": "ipython",
    "version": 3
   },
   "file_extension": ".py",
   "mimetype": "text/x-python",
   "name": "python",
   "nbconvert_exporter": "python",
   "pygments_lexer": "ipython3",
   "version": "3.8.8"
  },
  "toc": {
   "base_numbering": 1,
   "nav_menu": {},
   "number_sections": false,
   "sideBar": false,
   "skip_h1_title": false,
   "title_cell": "Table of Contents",
   "title_sidebar": "Contents",
   "toc_cell": false,
   "toc_position": {},
   "toc_section_display": false,
   "toc_window_display": true
  },
  "varInspector": {
   "cols": {
    "lenName": 16,
    "lenType": 16,
    "lenVar": 40
   },
   "kernels_config": {
    "python": {
     "delete_cmd_postfix": "",
     "delete_cmd_prefix": "del ",
     "library": "var_list.py",
     "varRefreshCmd": "print(var_dic_list())"
    },
    "r": {
     "delete_cmd_postfix": ") ",
     "delete_cmd_prefix": "rm(",
     "library": "var_list.r",
     "varRefreshCmd": "cat(var_dic_list()) "
    }
   },
   "types_to_exclude": [
    "module",
    "function",
    "builtin_function_or_method",
    "instance",
    "_Feature"
   ],
   "window_display": false
  }
 },
 "nbformat": 4,
 "nbformat_minor": 5
}
