{
 "cells": [
  {
   "cell_type": "markdown",
   "id": "5d6db6e2",
   "metadata": {},
   "source": [
    "## Strengths and Weaknesses"
   ]
  },
  {
   "cell_type": "markdown",
   "id": "9e21adc1",
   "metadata": {},
   "source": [
    "### Strengths"
   ]
  },
  {
   "cell_type": "markdown",
   "id": "e490c666",
   "metadata": {},
   "source": [
    "1. **Novelty.** To the best of our knowledge, we are the first to propose an AHP Hybrid Entropy Weight Method Model for global equity evaluations which involves historical and regional analyses.\n",
    "\n",
    "\n",
    "2. **Generazation.** Our proposed framework can freely be implemented to any data set e.g., whether it is global equity within a region or a comparison of global equity between regions\n",
    "\n",
    "\n",
    "3. **Robustness.** Our model shows great robustness to most of the parameters."
   ]
  },
  {
   "cell_type": "markdown",
   "id": "2f685b82",
   "metadata": {},
   "source": [
    "### Weaknesses"
   ]
  },
  {
   "cell_type": "markdown",
   "id": "1c26c7df",
   "metadata": {},
   "source": [
    "1. **Missing other potentially relevant factors.** For instance, we do not take types of energy obtained by asteroid mining into consideration when analyzing factors affecting global equity.\n",
    "\n",
    "\n",
    "2. **Missing data set partitions**. If we divide the data set into training set, validation set and test set, we can optimize the hyperparameters of the model and greatly reduce the generalization error of the model with validation set, as well as evaluate and improve the accuracy of the model with test set."
   ]
  },
  {
   "cell_type": "markdown",
   "id": "fdf2252b",
   "metadata": {},
   "source": [
    "|Abbreviations/Symbols|Description|\n",
    "|:---:|:---:|\n",
    "|$p$|the order of the AR model|\n",
    "|$q$|the order of the MA model|\n",
    "|$\\phi$|the fitting parameter of AR model|\n",
    "|$\\theta$|the fitting parameters for MA model|\n",
    "|$d$|the differential order(used in ARIMA)|\n",
    "|$Y_t$|Differential sequences(used in ARIMA)|\n",
    "|$\\epsilon_t$|the noise sequence(used in ARIMA)|\n",
    "|$A$|the judging matrix(used in AHP)|\n",
    "|$w_i/w_j$|How important factor i is to factor j(used in AHP)|\n",
    "|$\\lambda_{max}$|Largest characteristic root(used in AHP)|\n",
    "|$n$|Order of the matrix(used in AHP)|\n",
    "|$AHP$|Analytic Hierarchy Process|\n",
    "|$EWM$|Entropy Weight Method|\n",
    "|$edu$|Gap in national investment in Education(used in OLS)|\n",
    "|$forest$|Gaps in national forest cover(used in OLS)|\n",
    "|$gov$|The gap between countries in the ratio of government expenditure(used in OLS)|\n",
    "|$life$|The gap in the average life expectancy of the country's population(used in OLS)|\n",
    "|$power$|Gap between countries in power coverage(used in OLS)|\n",
    "|$gni$|The gap between countries in per capita national income(used in OLS)|\n",
    "|$mine$|0-1 variable, indicating whether there is the impact of space mining(used in OLS)|\n",
    "|$Inf$|Impact of space mining on the country(used in OLS)|\n",
    "|$rd$|National gap in scientific research personnel(used in OLS)|\n",
    "|$urban$|National gap in urban population ratio(used in OLS)|\n",
    "|$newgni$|=gni+mine×Inf(used in OLS)|"
   ]
  }
 ],
 "metadata": {
  "kernelspec": {
   "display_name": "Python 3",
   "language": "python",
   "name": "python3"
  },
  "language_info": {
   "codemirror_mode": {
    "name": "ipython",
    "version": 3
   },
   "file_extension": ".py",
   "mimetype": "text/x-python",
   "name": "python",
   "nbconvert_exporter": "python",
   "pygments_lexer": "ipython3",
   "version": "3.8.8"
  },
  "toc": {
   "base_numbering": 1,
   "nav_menu": {},
   "number_sections": false,
   "sideBar": false,
   "skip_h1_title": false,
   "title_cell": "Table of Contents",
   "title_sidebar": "Contents",
   "toc_cell": false,
   "toc_position": {
    "height": "99.9958px",
    "left": "10px",
    "top": "150px",
    "width": "165px"
   },
   "toc_section_display": true,
   "toc_window_display": true
  },
  "varInspector": {
   "cols": {
    "lenName": 16,
    "lenType": 16,
    "lenVar": 40
   },
   "kernels_config": {
    "python": {
     "delete_cmd_postfix": "",
     "delete_cmd_prefix": "del ",
     "library": "var_list.py",
     "varRefreshCmd": "print(var_dic_list())"
    },
    "r": {
     "delete_cmd_postfix": ") ",
     "delete_cmd_prefix": "rm(",
     "library": "var_list.r",
     "varRefreshCmd": "cat(var_dic_list()) "
    }
   },
   "types_to_exclude": [
    "module",
    "function",
    "builtin_function_or_method",
    "instance",
    "_Feature"
   ],
   "window_display": false
  }
 },
 "nbformat": 4,
 "nbformat_minor": 5
}
