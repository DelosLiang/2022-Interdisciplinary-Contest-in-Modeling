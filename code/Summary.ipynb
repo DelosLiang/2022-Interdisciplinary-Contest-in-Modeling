{
 "cells": [
  {
   "cell_type": "markdown",
   "id": "d04967cb",
   "metadata": {},
   "source": [
    "In terms of part 3, we choose to establish an index system including six parameters to generate the proportion that each country can benefit in new mineral energy generated from asteroid mining. Then we apply **ARIMA Model** to predict the future tendency of six parameters until 2050, and we screen out the six most representative countries through the **Entropy Weight Method**. We utilize **AHP** to propose a judging matrix of six distributional factors and predict the future tendency of the six countries' proportion of extraterrestrial mineral energy. Finally, we acquire the impact of changing conditions on global equity by adjusting the importance of environmental pollution and technology in the judging matrix. We believe that changes in the Gini index due to adjusting importance reflect changes in global equity. The results shows that the increase in the importance of technological factors will promote global equity, while the increase in pollution will have the opposite effect."
   ]
  },
  {
   "cell_type": "markdown",
   "id": "3cbc0dd5",
   "metadata": {},
   "source": [
    "With regard to part 4, we put forward suggestions on the formulation of UN policies from the perspective of resource allocation, scientific and Technological Development and environmental protection."
   ]
  }
 ],
 "metadata": {
  "kernelspec": {
   "display_name": "Python 3",
   "language": "python",
   "name": "python3"
  },
  "language_info": {
   "codemirror_mode": {
    "name": "ipython",
    "version": 3
   },
   "file_extension": ".py",
   "mimetype": "text/x-python",
   "name": "python",
   "nbconvert_exporter": "python",
   "pygments_lexer": "ipython3",
   "version": "3.8.8"
  },
  "toc": {
   "base_numbering": 1,
   "nav_menu": {},
   "number_sections": false,
   "sideBar": false,
   "skip_h1_title": false,
   "title_cell": "Table of Contents",
   "title_sidebar": "Contents",
   "toc_cell": false,
   "toc_position": {},
   "toc_section_display": false,
   "toc_window_display": true
  },
  "varInspector": {
   "cols": {
    "lenName": 16,
    "lenType": 16,
    "lenVar": 40
   },
   "kernels_config": {
    "python": {
     "delete_cmd_postfix": "",
     "delete_cmd_prefix": "del ",
     "library": "var_list.py",
     "varRefreshCmd": "print(var_dic_list())"
    },
    "r": {
     "delete_cmd_postfix": ") ",
     "delete_cmd_prefix": "rm(",
     "library": "var_list.r",
     "varRefreshCmd": "cat(var_dic_list()) "
    }
   },
   "types_to_exclude": [
    "module",
    "function",
    "builtin_function_or_method",
    "instance",
    "_Feature"
   ],
   "window_display": false
  }
 },
 "nbformat": 4,
 "nbformat_minor": 5
}
