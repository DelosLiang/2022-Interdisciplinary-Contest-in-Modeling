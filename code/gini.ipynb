{
 "cells": [
  {
   "cell_type": "code",
   "execution_count": 1,
   "id": "0d667f8e",
   "metadata": {
    "ExecuteTime": {
     "end_time": "2022-02-20T04:34:27.934724Z",
     "start_time": "2022-02-20T04:34:27.926723Z"
    }
   },
   "outputs": [],
   "source": [
    "import numpy as np\n",
    "\n",
    "def gini(data_list):\n",
    "    '''获得列表中的gini系数'''\n",
    "    data_length = len(data_list)\n",
    "    total_sum = np.sum(data_list)\n",
    "    total_gini = 0\n",
    "    for i in range(data_length):\n",
    "        temp_denominator = data_list[i][0] + data_list[i][1]\n",
    "        temp_son = np.sum(data_list[i])\n",
    "        temp_gini = 1 - np.power(data_list[i][0]/temp_denominator, 2) - np.power(data_list[i][1]/temp_denominator, 2)\n",
    "        total_gini = temp_gini * temp_son / total_sum + total_gini\n",
    "    return total_gini"
   ]
  },
  {
   "cell_type": "code",
   "execution_count": 6,
   "id": "5fd8756f",
   "metadata": {
    "ExecuteTime": {
     "end_time": "2022-02-20T04:40:37.307392Z",
     "start_time": "2022-02-20T04:40:37.291388Z"
    }
   },
   "outputs": [
    {
     "data": {
      "text/plain": [
       "0.4946484833733368"
      ]
     },
     "execution_count": 6,
     "metadata": {},
     "output_type": "execute_result"
    }
   ],
   "source": [
    "d1=[[0.31745494 ,0.25792839 ,0.18051446, 0.01149195, 0.10030173 ,0.13230853]]\n",
    "gini(d1)"
   ]
  },
  {
   "cell_type": "code",
   "execution_count": 9,
   "id": "5bb8c3ba",
   "metadata": {
    "ExecuteTime": {
     "end_time": "2022-02-20T04:43:34.926109Z",
     "start_time": "2022-02-20T04:43:34.912138Z"
    }
   },
   "outputs": [
    {
     "data": {
      "text/plain": [
       "0.4936829368612372"
      ]
     },
     "execution_count": 9,
     "metadata": {},
     "output_type": "execute_result"
    }
   ],
   "source": [
    "d3=[[0.32352525 ,0.25814461 ,0.17615208 ,0.01119322, 0.09889128 ,0.13209356]]\n",
    "gini(d3)"
   ]
  },
  {
   "cell_type": "code",
   "execution_count": 12,
   "id": "a4855fb6",
   "metadata": {
    "ExecuteTime": {
     "end_time": "2022-02-20T04:46:01.448351Z",
     "start_time": "2022-02-20T04:46:01.435843Z"
    }
   },
   "outputs": [
    {
     "data": {
      "text/plain": [
       "0.4924553765547625"
      ]
     },
     "execution_count": 12,
     "metadata": {},
     "output_type": "execute_result"
    }
   ],
   "source": [
    "d5=[[0.32844591 ,0.25658207 ,0.17445453, 0.01097399, 0.09776022, 0.13178328]]\n",
    "gini(d5)"
   ]
  },
  {
   "cell_type": "code",
   "execution_count": 21,
   "id": "31ca17fa",
   "metadata": {
    "ExecuteTime": {
     "end_time": "2022-02-20T06:17:05.521119Z",
     "start_time": "2022-02-20T06:17:05.516069Z"
    }
   },
   "outputs": [
    {
     "data": {
      "text/plain": [
       "0.4912167166835246"
      ]
     },
     "execution_count": 21,
     "metadata": {},
     "output_type": "execute_result"
    }
   ],
   "source": [
    "d7=[[0.33278483 ,0.25489445 ,0.17327065 ,0.01078713 ,0.09676871, 0.13149423]]\n",
    "gini(d7)"
   ]
  },
  {
   "cell_type": "code",
   "execution_count": 22,
   "id": "b8e34af4",
   "metadata": {
    "ExecuteTime": {
     "end_time": "2022-02-20T06:17:52.067468Z",
     "start_time": "2022-02-20T06:17:52.057465Z"
    }
   },
   "outputs": [
    {
     "data": {
      "text/plain": [
       "0.48999751134674774"
      ]
     },
     "execution_count": 22,
     "metadata": {},
     "output_type": "execute_result"
    }
   ],
   "source": [
    "d9=[[0.33669426, 0.25325277 ,0.17232039, 0.01062252 ,0.09587896, 0.13123111]]\n",
    "gini(d9)"
   ]
  },
  {
   "cell_type": "code",
   "execution_count": 14,
   "id": "9395cda0",
   "metadata": {
    "ExecuteTime": {
     "end_time": "2022-02-20T06:10:08.550893Z",
     "start_time": "2022-02-20T06:10:08.543890Z"
    }
   },
   "outputs": [
    {
     "data": {
      "text/plain": [
       "0.49167527927458327"
      ]
     },
     "execution_count": 14,
     "metadata": {},
     "output_type": "execute_result"
    }
   ],
   "source": [
    "b1=[[0.32783951, 0.25290453 ,0.1860528 , 0.01063615, 0.09696472 ,0.12560229]]\n",
    "gini(b1)"
   ]
  },
  {
   "cell_type": "code",
   "execution_count": 17,
   "id": "78723715",
   "metadata": {
    "ExecuteTime": {
     "end_time": "2022-02-20T06:12:26.233450Z",
     "start_time": "2022-02-20T06:12:26.213446Z"
    }
   },
   "outputs": [
    {
     "data": {
      "text/plain": [
       "0.49330584822183865"
      ]
     },
     "execution_count": 17,
     "metadata": {},
     "output_type": "execute_result"
    }
   ],
   "source": [
    "b3=[[0.32501415 ,0.25760101 ,0.17855469, 0.01096559 ,0.098183  , 0.12968156]]\n",
    "gini(b3)"
   ]
  },
  {
   "cell_type": "code",
   "execution_count": 18,
   "id": "8dcc162e",
   "metadata": {
    "ExecuteTime": {
     "end_time": "2022-02-20T06:13:50.017460Z",
     "start_time": "2022-02-20T06:13:50.006458Z"
    }
   },
   "outputs": [
    {
     "data": {
      "text/plain": [
       "0.4936829368612372"
      ]
     },
     "execution_count": 18,
     "metadata": {},
     "output_type": "execute_result"
    }
   ],
   "source": [
    "b5=[[0.32352525 ,0.25814461,0.17615208, 0.01119322, 0.09889128 ,0.13209356]]\n",
    "gini(b5)"
   ]
  },
  {
   "cell_type": "code",
   "execution_count": 19,
   "id": "5e08abde",
   "metadata": {
    "ExecuteTime": {
     "end_time": "2022-02-20T06:14:53.954103Z",
     "start_time": "2022-02-20T06:14:53.944721Z"
    }
   },
   "outputs": [
    {
     "data": {
      "text/plain": [
       "0.4938637156922854"
      ]
     },
     "execution_count": 19,
     "metadata": {},
     "output_type": "execute_result"
    }
   ],
   "source": [
    "b7=[[0.3223302  ,0.25803626 ,0.17463031, 0.01139265 ,0.09948531, 0.13412527]]\n",
    "gini(b7)"
   ]
  },
  {
   "cell_type": "code",
   "execution_count": 20,
   "id": "d47d4465",
   "metadata": {
    "ExecuteTime": {
     "end_time": "2022-02-20T06:15:38.516645Z",
     "start_time": "2022-02-20T06:15:38.504642Z"
    }
   },
   "outputs": [
    {
     "data": {
      "text/plain": [
       "0.4939737542942495"
      ]
     },
     "execution_count": 20,
     "metadata": {},
     "output_type": "execute_result"
    }
   ],
   "source": [
    "b9= [[0.32128463, 0.25771935, 0.1734517 , 0.01157497 ,0.10001763 ,0.13595172]]\n",
    "gini(b9)"
   ]
  }
 ],
 "metadata": {
  "kernelspec": {
   "display_name": "Python 3",
   "language": "python",
   "name": "python3"
  },
  "language_info": {
   "codemirror_mode": {
    "name": "ipython",
    "version": 3
   },
   "file_extension": ".py",
   "mimetype": "text/x-python",
   "name": "python",
   "nbconvert_exporter": "python",
   "pygments_lexer": "ipython3",
   "version": "3.8.8"
  },
  "toc": {
   "base_numbering": 1,
   "nav_menu": {},
   "number_sections": false,
   "sideBar": false,
   "skip_h1_title": false,
   "title_cell": "Table of Contents",
   "title_sidebar": "Contents",
   "toc_cell": false,
   "toc_position": {},
   "toc_section_display": false,
   "toc_window_display": true
  },
  "varInspector": {
   "cols": {
    "lenName": 16,
    "lenType": 16,
    "lenVar": 40
   },
   "kernels_config": {
    "python": {
     "delete_cmd_postfix": "",
     "delete_cmd_prefix": "del ",
     "library": "var_list.py",
     "varRefreshCmd": "print(var_dic_list())"
    },
    "r": {
     "delete_cmd_postfix": ") ",
     "delete_cmd_prefix": "rm(",
     "library": "var_list.r",
     "varRefreshCmd": "cat(var_dic_list()) "
    }
   },
   "types_to_exclude": [
    "module",
    "function",
    "builtin_function_or_method",
    "instance",
    "_Feature"
   ],
   "window_display": false
  }
 },
 "nbformat": 4,
 "nbformat_minor": 5
}
